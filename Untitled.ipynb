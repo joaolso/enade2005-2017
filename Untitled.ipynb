{
 "cells": [
  {
   "cell_type": "code",
   "execution_count": 2,
   "metadata": {},
   "outputs": [
    {
     "name": "stderr",
     "output_type": "stream",
     "text": [
      "/Users/joaooliveira/opt/anaconda3/lib/python3.7/site-packages/statsmodels/tools/_testing.py:19: FutureWarning: pandas.util.testing is deprecated. Use the functions in the public API at pandas.testing instead.\n",
      "  import pandas.util.testing as tm\n"
     ]
    }
   ],
   "source": [
    "import numpy as np\n",
    "import pandas as pd\n",
    "import matplotlib.pyplot as plt\n",
    "import seaborn as sns\n",
    "import plotly.express as px"
   ]
  },
  {
   "cell_type": "code",
   "execution_count": 3,
   "metadata": {},
   "outputs": [],
   "source": [
    "# count = [2005]*11,[2008]*11,[2011]*11,[2014]*11,[2017]*11\n",
    "# listYear = [item for sublist in count for item in sublist]\n",
    "# listTheme = [\"AEDP\", \"ACCD\", \"BD\", \"CGPI\", \"ES\", \"ECS\", \"IA\", \"LFACC\", \"LMMDEG\", \"RCSDT\", \"SO\"]*5\n",
    "# listHit = [24,20,33,33,28,50,0,30,37,30,24,\\\n",
    "#            28,37,18,27,24,57,45,37,28,26,53,\\\n",
    "#            31,44,0,0,40,0,0,28,30,20,15,\\\n",
    "#            29,23,33,14,67,0,0,36,44,0,68,\\\n",
    "#            37,34,24,37,40,34,50,22,44,30,30]\n",
    "\n",
    "# listError = [76,80,67,67,72,50,0,70,63,70,76,\\\n",
    "#              72,63,82,73,76,43,55,63,72,74,47,\\\n",
    "#              69,56,0,0,60,0,0,72,70,80,85,\\\n",
    "#              71,77,67,86,33,0,0,64,56,0,32,\\\n",
    "#              63,66,76,63,60,66,50,78,56,70,70]\n",
    "\n",
    "# data = pd.DataFrame({\"Tema\": listTheme,\n",
    "#                      \"Ano\": listYear,\n",
    "#                      \"Acerto\": listHit,\n",
    "#                      \"Erro\": listError})\n",
    "# data"
   ]
  },
  {
   "cell_type": "code",
   "execution_count": 12,
   "metadata": {},
   "outputs": [],
   "source": [
    "count = [2005]*11,[2008]*11,[2011]*11,[2014]*11,[2017]*11+[2005]*11,[2008]*11,[2011]*11,[2014]*11,[2017]*11\n",
    "\n",
    "listYear = [item for sublist in count for item in sublist]\n",
    "\n",
    "listTheme = [\"AEDP\", \"ACCD\", \"BD\", \"CGPI\", \"ES\", \"ECS\", \"IA\", \"LFACC\", \"LMMDEG\", \"RCSDT\", \"SO\"]*5\\\n",
    "+ [\"AEDP\", \"ACCD\", \"BD\", \"CGPI\", \"ES\", \"ECS\", \"IA\", \"LFACC\", \"LMMDEG\", \"RCSDT\", \"SO\"]*5\n",
    "\n",
    "metrica = [\"Acerto\"]*55+[\"Erro\"]*55\n",
    "\n",
    "porcentagem = [24,20,33,33,28,50,0,30,37,30,24,\\\n",
    "           28,37,18,27,24,57,45,37,28,26,53,\\\n",
    "           31,44,0,0,40,0,0,28,30,20,15,\\\n",
    "           29,23,33,14,67,0,0,36,44,0,68,\\\n",
    "           37,34,24,37,40,34,50,22,44,30,30,\n",
    "           76,80,67,67,72,50,0,70,63,70,76,\\\n",
    "           72,63,82,73,76,43,55,63,72,74,47,\\\n",
    "           69,56,0,0,60,0,0,72,70,80,85,\\\n",
    "           71,77,67,86,33,0,0,64,56,0,32,\\\n",
    "           63,66,76,63,60,66,50,78,56,70,70]\n",
    "\n",
    "\n",
    "data = pd.DataFrame({\"tema\": listTheme,\n",
    "                     \"ano\": listYear,\n",
    "                     \"alvo\": metrica,\n",
    "                     \"%\": porcentagem})"
   ]
  },
  {
   "cell_type": "code",
   "execution_count": 13,
   "metadata": {},
   "outputs": [
    {
     "data": {
      "application/vnd.plotly.v1+json": {
       "config": {
        "plotlyServerURL": "https://plot.ly"
       },
       "data": [
        {
         "alignmentgroup": "True",
         "hoverlabel": {
          "namelength": 0
         },
         "hovertemplate": "alvo=Acerto<br>ano=2005<br>%=%{text}<br>tema=%{y}",
         "legendgroup": "Acerto",
         "marker": {
          "color": "#4C78A8"
         },
         "name": "Acerto",
         "offsetgroup": "Acerto",
         "orientation": "h",
         "showlegend": true,
         "text": [
          24,
          20,
          33,
          33,
          28,
          50,
          0,
          30,
          37,
          30,
          24
         ],
         "textposition": "auto",
         "type": "bar",
         "x": [
          24,
          20,
          33,
          33,
          28,
          50,
          0,
          30,
          37,
          30,
          24
         ],
         "xaxis": "x",
         "y": [
          "AEDP",
          "ACCD",
          "BD",
          "CGPI",
          "ES",
          "ECS",
          "IA",
          "LFACC",
          "LMMDEG",
          "RCSDT",
          "SO"
         ],
         "yaxis": "y"
        },
        {
         "alignmentgroup": "True",
         "hoverlabel": {
          "namelength": 0
         },
         "hovertemplate": "alvo=Acerto<br>ano=2008<br>%=%{text}<br>tema=%{y}",
         "legendgroup": "Acerto",
         "marker": {
          "color": "#4C78A8"
         },
         "name": "Acerto",
         "offsetgroup": "Acerto",
         "orientation": "h",
         "showlegend": false,
         "text": [
          28,
          37,
          18,
          27,
          24,
          57,
          45,
          37,
          28,
          26,
          53
         ],
         "textposition": "auto",
         "type": "bar",
         "x": [
          28,
          37,
          18,
          27,
          24,
          57,
          45,
          37,
          28,
          26,
          53
         ],
         "xaxis": "x2",
         "y": [
          "AEDP",
          "ACCD",
          "BD",
          "CGPI",
          "ES",
          "ECS",
          "IA",
          "LFACC",
          "LMMDEG",
          "RCSDT",
          "SO"
         ],
         "yaxis": "y2"
        },
        {
         "alignmentgroup": "True",
         "hoverlabel": {
          "namelength": 0
         },
         "hovertemplate": "alvo=Acerto<br>ano=2011<br>%=%{text}<br>tema=%{y}",
         "legendgroup": "Acerto",
         "marker": {
          "color": "#4C78A8"
         },
         "name": "Acerto",
         "offsetgroup": "Acerto",
         "orientation": "h",
         "showlegend": false,
         "text": [
          31,
          44,
          0,
          0,
          40,
          0,
          0,
          28,
          30,
          20,
          15
         ],
         "textposition": "auto",
         "type": "bar",
         "x": [
          31,
          44,
          0,
          0,
          40,
          0,
          0,
          28,
          30,
          20,
          15
         ],
         "xaxis": "x3",
         "y": [
          "AEDP",
          "ACCD",
          "BD",
          "CGPI",
          "ES",
          "ECS",
          "IA",
          "LFACC",
          "LMMDEG",
          "RCSDT",
          "SO"
         ],
         "yaxis": "y3"
        },
        {
         "alignmentgroup": "True",
         "hoverlabel": {
          "namelength": 0
         },
         "hovertemplate": "alvo=Acerto<br>ano=2014<br>%=%{text}<br>tema=%{y}",
         "legendgroup": "Acerto",
         "marker": {
          "color": "#4C78A8"
         },
         "name": "Acerto",
         "offsetgroup": "Acerto",
         "orientation": "h",
         "showlegend": false,
         "text": [
          29,
          23,
          33,
          14,
          67,
          0,
          0,
          36,
          44,
          0,
          68
         ],
         "textposition": "auto",
         "type": "bar",
         "x": [
          29,
          23,
          33,
          14,
          67,
          0,
          0,
          36,
          44,
          0,
          68
         ],
         "xaxis": "x4",
         "y": [
          "AEDP",
          "ACCD",
          "BD",
          "CGPI",
          "ES",
          "ECS",
          "IA",
          "LFACC",
          "LMMDEG",
          "RCSDT",
          "SO"
         ],
         "yaxis": "y4"
        },
        {
         "alignmentgroup": "True",
         "hoverlabel": {
          "namelength": 0
         },
         "hovertemplate": "alvo=Acerto<br>ano=2017<br>%=%{text}<br>tema=%{y}",
         "legendgroup": "Acerto",
         "marker": {
          "color": "#4C78A8"
         },
         "name": "Acerto",
         "offsetgroup": "Acerto",
         "orientation": "h",
         "showlegend": false,
         "text": [
          37,
          34,
          24,
          37,
          40,
          34,
          50,
          22,
          44,
          30,
          30
         ],
         "textposition": "auto",
         "type": "bar",
         "x": [
          37,
          34,
          24,
          37,
          40,
          34,
          50,
          22,
          44,
          30,
          30
         ],
         "xaxis": "x5",
         "y": [
          "AEDP",
          "ACCD",
          "BD",
          "CGPI",
          "ES",
          "ECS",
          "IA",
          "LFACC",
          "LMMDEG",
          "RCSDT",
          "SO"
         ],
         "yaxis": "y5"
        },
        {
         "alignmentgroup": "True",
         "hoverlabel": {
          "namelength": 0
         },
         "hovertemplate": "alvo=Erro<br>ano=2005<br>%=%{text}<br>tema=%{y}",
         "legendgroup": "Erro",
         "marker": {
          "color": "#F58518"
         },
         "name": "Erro",
         "offsetgroup": "Erro",
         "orientation": "h",
         "showlegend": true,
         "text": [
          76,
          80,
          67,
          67,
          72,
          50,
          0,
          70,
          63,
          70,
          76
         ],
         "textposition": "auto",
         "type": "bar",
         "x": [
          76,
          80,
          67,
          67,
          72,
          50,
          0,
          70,
          63,
          70,
          76
         ],
         "xaxis": "x",
         "y": [
          "AEDP",
          "ACCD",
          "BD",
          "CGPI",
          "ES",
          "ECS",
          "IA",
          "LFACC",
          "LMMDEG",
          "RCSDT",
          "SO"
         ],
         "yaxis": "y"
        },
        {
         "alignmentgroup": "True",
         "hoverlabel": {
          "namelength": 0
         },
         "hovertemplate": "alvo=Erro<br>ano=2008<br>%=%{text}<br>tema=%{y}",
         "legendgroup": "Erro",
         "marker": {
          "color": "#F58518"
         },
         "name": "Erro",
         "offsetgroup": "Erro",
         "orientation": "h",
         "showlegend": false,
         "text": [
          72,
          63,
          82,
          73,
          76,
          43,
          55,
          63,
          72,
          74,
          47
         ],
         "textposition": "auto",
         "type": "bar",
         "x": [
          72,
          63,
          82,
          73,
          76,
          43,
          55,
          63,
          72,
          74,
          47
         ],
         "xaxis": "x2",
         "y": [
          "AEDP",
          "ACCD",
          "BD",
          "CGPI",
          "ES",
          "ECS",
          "IA",
          "LFACC",
          "LMMDEG",
          "RCSDT",
          "SO"
         ],
         "yaxis": "y2"
        },
        {
         "alignmentgroup": "True",
         "hoverlabel": {
          "namelength": 0
         },
         "hovertemplate": "alvo=Erro<br>ano=2011<br>%=%{text}<br>tema=%{y}",
         "legendgroup": "Erro",
         "marker": {
          "color": "#F58518"
         },
         "name": "Erro",
         "offsetgroup": "Erro",
         "orientation": "h",
         "showlegend": false,
         "text": [
          69,
          56,
          0,
          0,
          60,
          0,
          0,
          72,
          70,
          80,
          85
         ],
         "textposition": "auto",
         "type": "bar",
         "x": [
          69,
          56,
          0,
          0,
          60,
          0,
          0,
          72,
          70,
          80,
          85
         ],
         "xaxis": "x3",
         "y": [
          "AEDP",
          "ACCD",
          "BD",
          "CGPI",
          "ES",
          "ECS",
          "IA",
          "LFACC",
          "LMMDEG",
          "RCSDT",
          "SO"
         ],
         "yaxis": "y3"
        },
        {
         "alignmentgroup": "True",
         "hoverlabel": {
          "namelength": 0
         },
         "hovertemplate": "alvo=Erro<br>ano=2014<br>%=%{text}<br>tema=%{y}",
         "legendgroup": "Erro",
         "marker": {
          "color": "#F58518"
         },
         "name": "Erro",
         "offsetgroup": "Erro",
         "orientation": "h",
         "showlegend": false,
         "text": [
          71,
          77,
          67,
          86,
          33,
          0,
          0,
          64,
          56,
          0,
          32
         ],
         "textposition": "auto",
         "type": "bar",
         "x": [
          71,
          77,
          67,
          86,
          33,
          0,
          0,
          64,
          56,
          0,
          32
         ],
         "xaxis": "x4",
         "y": [
          "AEDP",
          "ACCD",
          "BD",
          "CGPI",
          "ES",
          "ECS",
          "IA",
          "LFACC",
          "LMMDEG",
          "RCSDT",
          "SO"
         ],
         "yaxis": "y4"
        },
        {
         "alignmentgroup": "True",
         "hoverlabel": {
          "namelength": 0
         },
         "hovertemplate": "alvo=Erro<br>ano=2017<br>%=%{text}<br>tema=%{y}",
         "legendgroup": "Erro",
         "marker": {
          "color": "#F58518"
         },
         "name": "Erro",
         "offsetgroup": "Erro",
         "orientation": "h",
         "showlegend": false,
         "text": [
          63,
          66,
          76,
          63,
          60,
          66,
          50,
          78,
          56,
          70,
          70
         ],
         "textposition": "auto",
         "type": "bar",
         "x": [
          63,
          66,
          76,
          63,
          60,
          66,
          50,
          78,
          56,
          70,
          70
         ],
         "xaxis": "x5",
         "y": [
          "AEDP",
          "ACCD",
          "BD",
          "CGPI",
          "ES",
          "ECS",
          "IA",
          "LFACC",
          "LMMDEG",
          "RCSDT",
          "SO"
         ],
         "yaxis": "y5"
        }
       ],
       "layout": {
        "annotations": [
         {
          "font": {},
          "showarrow": false,
          "text": "ano=2005",
          "x": 0.09200000000000001,
          "xanchor": "center",
          "xref": "paper",
          "y": 1,
          "yanchor": "bottom",
          "yref": "paper"
         },
         {
          "font": {},
          "showarrow": false,
          "text": "ano=2008",
          "x": 0.29600000000000004,
          "xanchor": "center",
          "xref": "paper",
          "y": 1,
          "yanchor": "bottom",
          "yref": "paper"
         },
         {
          "font": {},
          "showarrow": false,
          "text": "ano=2011",
          "x": 0.5,
          "xanchor": "center",
          "xref": "paper",
          "y": 1,
          "yanchor": "bottom",
          "yref": "paper"
         },
         {
          "font": {},
          "showarrow": false,
          "text": "ano=2014",
          "x": 0.7040000000000002,
          "xanchor": "center",
          "xref": "paper",
          "y": 1,
          "yanchor": "bottom",
          "yref": "paper"
         },
         {
          "font": {},
          "showarrow": false,
          "text": "ano=2017",
          "x": 0.908,
          "xanchor": "center",
          "xref": "paper",
          "y": 1,
          "yanchor": "bottom",
          "yref": "paper"
         }
        ],
        "autosize": true,
        "barmode": "relative",
        "legend": {
         "title": {
          "text": "alvo"
         },
         "tracegroupgap": 0
        },
        "margin": {
         "t": 60
        },
        "template": {
         "data": {
          "bar": [
           {
            "error_x": {
             "color": "#2a3f5f"
            },
            "error_y": {
             "color": "#2a3f5f"
            },
            "marker": {
             "line": {
              "color": "white",
              "width": 0.5
             }
            },
            "type": "bar"
           }
          ],
          "barpolar": [
           {
            "marker": {
             "line": {
              "color": "white",
              "width": 0.5
             }
            },
            "type": "barpolar"
           }
          ],
          "carpet": [
           {
            "aaxis": {
             "endlinecolor": "#2a3f5f",
             "gridcolor": "#C8D4E3",
             "linecolor": "#C8D4E3",
             "minorgridcolor": "#C8D4E3",
             "startlinecolor": "#2a3f5f"
            },
            "baxis": {
             "endlinecolor": "#2a3f5f",
             "gridcolor": "#C8D4E3",
             "linecolor": "#C8D4E3",
             "minorgridcolor": "#C8D4E3",
             "startlinecolor": "#2a3f5f"
            },
            "type": "carpet"
           }
          ],
          "choropleth": [
           {
            "colorbar": {
             "outlinewidth": 0,
             "ticks": ""
            },
            "type": "choropleth"
           }
          ],
          "contour": [
           {
            "colorbar": {
             "outlinewidth": 0,
             "ticks": ""
            },
            "colorscale": [
             [
              0,
              "#0d0887"
             ],
             [
              0.1111111111111111,
              "#46039f"
             ],
             [
              0.2222222222222222,
              "#7201a8"
             ],
             [
              0.3333333333333333,
              "#9c179e"
             ],
             [
              0.4444444444444444,
              "#bd3786"
             ],
             [
              0.5555555555555556,
              "#d8576b"
             ],
             [
              0.6666666666666666,
              "#ed7953"
             ],
             [
              0.7777777777777778,
              "#fb9f3a"
             ],
             [
              0.8888888888888888,
              "#fdca26"
             ],
             [
              1,
              "#f0f921"
             ]
            ],
            "type": "contour"
           }
          ],
          "contourcarpet": [
           {
            "colorbar": {
             "outlinewidth": 0,
             "ticks": ""
            },
            "type": "contourcarpet"
           }
          ],
          "heatmap": [
           {
            "colorbar": {
             "outlinewidth": 0,
             "ticks": ""
            },
            "colorscale": [
             [
              0,
              "#0d0887"
             ],
             [
              0.1111111111111111,
              "#46039f"
             ],
             [
              0.2222222222222222,
              "#7201a8"
             ],
             [
              0.3333333333333333,
              "#9c179e"
             ],
             [
              0.4444444444444444,
              "#bd3786"
             ],
             [
              0.5555555555555556,
              "#d8576b"
             ],
             [
              0.6666666666666666,
              "#ed7953"
             ],
             [
              0.7777777777777778,
              "#fb9f3a"
             ],
             [
              0.8888888888888888,
              "#fdca26"
             ],
             [
              1,
              "#f0f921"
             ]
            ],
            "type": "heatmap"
           }
          ],
          "heatmapgl": [
           {
            "colorbar": {
             "outlinewidth": 0,
             "ticks": ""
            },
            "colorscale": [
             [
              0,
              "#0d0887"
             ],
             [
              0.1111111111111111,
              "#46039f"
             ],
             [
              0.2222222222222222,
              "#7201a8"
             ],
             [
              0.3333333333333333,
              "#9c179e"
             ],
             [
              0.4444444444444444,
              "#bd3786"
             ],
             [
              0.5555555555555556,
              "#d8576b"
             ],
             [
              0.6666666666666666,
              "#ed7953"
             ],
             [
              0.7777777777777778,
              "#fb9f3a"
             ],
             [
              0.8888888888888888,
              "#fdca26"
             ],
             [
              1,
              "#f0f921"
             ]
            ],
            "type": "heatmapgl"
           }
          ],
          "histogram": [
           {
            "marker": {
             "colorbar": {
              "outlinewidth": 0,
              "ticks": ""
             }
            },
            "type": "histogram"
           }
          ],
          "histogram2d": [
           {
            "colorbar": {
             "outlinewidth": 0,
             "ticks": ""
            },
            "colorscale": [
             [
              0,
              "#0d0887"
             ],
             [
              0.1111111111111111,
              "#46039f"
             ],
             [
              0.2222222222222222,
              "#7201a8"
             ],
             [
              0.3333333333333333,
              "#9c179e"
             ],
             [
              0.4444444444444444,
              "#bd3786"
             ],
             [
              0.5555555555555556,
              "#d8576b"
             ],
             [
              0.6666666666666666,
              "#ed7953"
             ],
             [
              0.7777777777777778,
              "#fb9f3a"
             ],
             [
              0.8888888888888888,
              "#fdca26"
             ],
             [
              1,
              "#f0f921"
             ]
            ],
            "type": "histogram2d"
           }
          ],
          "histogram2dcontour": [
           {
            "colorbar": {
             "outlinewidth": 0,
             "ticks": ""
            },
            "colorscale": [
             [
              0,
              "#0d0887"
             ],
             [
              0.1111111111111111,
              "#46039f"
             ],
             [
              0.2222222222222222,
              "#7201a8"
             ],
             [
              0.3333333333333333,
              "#9c179e"
             ],
             [
              0.4444444444444444,
              "#bd3786"
             ],
             [
              0.5555555555555556,
              "#d8576b"
             ],
             [
              0.6666666666666666,
              "#ed7953"
             ],
             [
              0.7777777777777778,
              "#fb9f3a"
             ],
             [
              0.8888888888888888,
              "#fdca26"
             ],
             [
              1,
              "#f0f921"
             ]
            ],
            "type": "histogram2dcontour"
           }
          ],
          "mesh3d": [
           {
            "colorbar": {
             "outlinewidth": 0,
             "ticks": ""
            },
            "type": "mesh3d"
           }
          ],
          "parcoords": [
           {
            "line": {
             "colorbar": {
              "outlinewidth": 0,
              "ticks": ""
             }
            },
            "type": "parcoords"
           }
          ],
          "pie": [
           {
            "automargin": true,
            "type": "pie"
           }
          ],
          "scatter": [
           {
            "marker": {
             "colorbar": {
              "outlinewidth": 0,
              "ticks": ""
             }
            },
            "type": "scatter"
           }
          ],
          "scatter3d": [
           {
            "line": {
             "colorbar": {
              "outlinewidth": 0,
              "ticks": ""
             }
            },
            "marker": {
             "colorbar": {
              "outlinewidth": 0,
              "ticks": ""
             }
            },
            "type": "scatter3d"
           }
          ],
          "scattercarpet": [
           {
            "marker": {
             "colorbar": {
              "outlinewidth": 0,
              "ticks": ""
             }
            },
            "type": "scattercarpet"
           }
          ],
          "scattergeo": [
           {
            "marker": {
             "colorbar": {
              "outlinewidth": 0,
              "ticks": ""
             }
            },
            "type": "scattergeo"
           }
          ],
          "scattergl": [
           {
            "marker": {
             "colorbar": {
              "outlinewidth": 0,
              "ticks": ""
             }
            },
            "type": "scattergl"
           }
          ],
          "scattermapbox": [
           {
            "marker": {
             "colorbar": {
              "outlinewidth": 0,
              "ticks": ""
             }
            },
            "type": "scattermapbox"
           }
          ],
          "scatterpolar": [
           {
            "marker": {
             "colorbar": {
              "outlinewidth": 0,
              "ticks": ""
             }
            },
            "type": "scatterpolar"
           }
          ],
          "scatterpolargl": [
           {
            "marker": {
             "colorbar": {
              "outlinewidth": 0,
              "ticks": ""
             }
            },
            "type": "scatterpolargl"
           }
          ],
          "scatterternary": [
           {
            "marker": {
             "colorbar": {
              "outlinewidth": 0,
              "ticks": ""
             }
            },
            "type": "scatterternary"
           }
          ],
          "surface": [
           {
            "colorbar": {
             "outlinewidth": 0,
             "ticks": ""
            },
            "colorscale": [
             [
              0,
              "#0d0887"
             ],
             [
              0.1111111111111111,
              "#46039f"
             ],
             [
              0.2222222222222222,
              "#7201a8"
             ],
             [
              0.3333333333333333,
              "#9c179e"
             ],
             [
              0.4444444444444444,
              "#bd3786"
             ],
             [
              0.5555555555555556,
              "#d8576b"
             ],
             [
              0.6666666666666666,
              "#ed7953"
             ],
             [
              0.7777777777777778,
              "#fb9f3a"
             ],
             [
              0.8888888888888888,
              "#fdca26"
             ],
             [
              1,
              "#f0f921"
             ]
            ],
            "type": "surface"
           }
          ],
          "table": [
           {
            "cells": {
             "fill": {
              "color": "#EBF0F8"
             },
             "line": {
              "color": "white"
             }
            },
            "header": {
             "fill": {
              "color": "#C8D4E3"
             },
             "line": {
              "color": "white"
             }
            },
            "type": "table"
           }
          ]
         },
         "layout": {
          "annotationdefaults": {
           "arrowcolor": "#2a3f5f",
           "arrowhead": 0,
           "arrowwidth": 1
          },
          "coloraxis": {
           "colorbar": {
            "outlinewidth": 0,
            "ticks": ""
           }
          },
          "colorscale": {
           "diverging": [
            [
             0,
             "#8e0152"
            ],
            [
             0.1,
             "#c51b7d"
            ],
            [
             0.2,
             "#de77ae"
            ],
            [
             0.3,
             "#f1b6da"
            ],
            [
             0.4,
             "#fde0ef"
            ],
            [
             0.5,
             "#f7f7f7"
            ],
            [
             0.6,
             "#e6f5d0"
            ],
            [
             0.7,
             "#b8e186"
            ],
            [
             0.8,
             "#7fbc41"
            ],
            [
             0.9,
             "#4d9221"
            ],
            [
             1,
             "#276419"
            ]
           ],
           "sequential": [
            [
             0,
             "#0d0887"
            ],
            [
             0.1111111111111111,
             "#46039f"
            ],
            [
             0.2222222222222222,
             "#7201a8"
            ],
            [
             0.3333333333333333,
             "#9c179e"
            ],
            [
             0.4444444444444444,
             "#bd3786"
            ],
            [
             0.5555555555555556,
             "#d8576b"
            ],
            [
             0.6666666666666666,
             "#ed7953"
            ],
            [
             0.7777777777777778,
             "#fb9f3a"
            ],
            [
             0.8888888888888888,
             "#fdca26"
            ],
            [
             1,
             "#f0f921"
            ]
           ],
           "sequentialminus": [
            [
             0,
             "#0d0887"
            ],
            [
             0.1111111111111111,
             "#46039f"
            ],
            [
             0.2222222222222222,
             "#7201a8"
            ],
            [
             0.3333333333333333,
             "#9c179e"
            ],
            [
             0.4444444444444444,
             "#bd3786"
            ],
            [
             0.5555555555555556,
             "#d8576b"
            ],
            [
             0.6666666666666666,
             "#ed7953"
            ],
            [
             0.7777777777777778,
             "#fb9f3a"
            ],
            [
             0.8888888888888888,
             "#fdca26"
            ],
            [
             1,
             "#f0f921"
            ]
           ]
          },
          "colorway": [
           "#636efa",
           "#EF553B",
           "#00cc96",
           "#ab63fa",
           "#FFA15A",
           "#19d3f3",
           "#FF6692",
           "#B6E880",
           "#FF97FF",
           "#FECB52"
          ],
          "font": {
           "color": "#2a3f5f"
          },
          "geo": {
           "bgcolor": "white",
           "lakecolor": "white",
           "landcolor": "white",
           "showlakes": true,
           "showland": true,
           "subunitcolor": "#C8D4E3"
          },
          "hoverlabel": {
           "align": "left"
          },
          "hovermode": "closest",
          "mapbox": {
           "style": "light"
          },
          "paper_bgcolor": "white",
          "plot_bgcolor": "white",
          "polar": {
           "angularaxis": {
            "gridcolor": "#EBF0F8",
            "linecolor": "#EBF0F8",
            "ticks": ""
           },
           "bgcolor": "white",
           "radialaxis": {
            "gridcolor": "#EBF0F8",
            "linecolor": "#EBF0F8",
            "ticks": ""
           }
          },
          "scene": {
           "xaxis": {
            "backgroundcolor": "white",
            "gridcolor": "#DFE8F3",
            "gridwidth": 2,
            "linecolor": "#EBF0F8",
            "showbackground": true,
            "ticks": "",
            "zerolinecolor": "#EBF0F8"
           },
           "yaxis": {
            "backgroundcolor": "white",
            "gridcolor": "#DFE8F3",
            "gridwidth": 2,
            "linecolor": "#EBF0F8",
            "showbackground": true,
            "ticks": "",
            "zerolinecolor": "#EBF0F8"
           },
           "zaxis": {
            "backgroundcolor": "white",
            "gridcolor": "#DFE8F3",
            "gridwidth": 2,
            "linecolor": "#EBF0F8",
            "showbackground": true,
            "ticks": "",
            "zerolinecolor": "#EBF0F8"
           }
          },
          "shapedefaults": {
           "line": {
            "color": "#2a3f5f"
           }
          },
          "ternary": {
           "aaxis": {
            "gridcolor": "#DFE8F3",
            "linecolor": "#A2B1C6",
            "ticks": ""
           },
           "baxis": {
            "gridcolor": "#DFE8F3",
            "linecolor": "#A2B1C6",
            "ticks": ""
           },
           "bgcolor": "white",
           "caxis": {
            "gridcolor": "#DFE8F3",
            "linecolor": "#A2B1C6",
            "ticks": ""
           }
          },
          "title": {
           "x": 0.05
          },
          "xaxis": {
           "automargin": true,
           "gridcolor": "#EBF0F8",
           "linecolor": "#EBF0F8",
           "ticks": "",
           "title": {
            "standoff": 15
           },
           "zerolinecolor": "#EBF0F8",
           "zerolinewidth": 2
          },
          "yaxis": {
           "automargin": true,
           "gridcolor": "#EBF0F8",
           "linecolor": "#EBF0F8",
           "ticks": "",
           "title": {
            "standoff": 15
           },
           "zerolinecolor": "#EBF0F8",
           "zerolinewidth": 2
          }
         }
        },
        "xaxis": {
         "anchor": "y",
         "autorange": true,
         "domain": [
          0,
          0.18400000000000002
         ],
         "range": [
          0,
          105.26315789473685
         ],
         "title": {
          "text": "%"
         },
         "type": "linear"
        },
        "xaxis2": {
         "anchor": "y2",
         "autorange": true,
         "domain": [
          0.20400000000000001,
          0.388
         ],
         "matches": "x",
         "range": [
          0,
          105.26315789473685
         ],
         "title": {
          "text": "%"
         },
         "type": "linear"
        },
        "xaxis3": {
         "anchor": "y3",
         "autorange": true,
         "domain": [
          0.40800000000000003,
          0.5920000000000001
         ],
         "matches": "x",
         "range": [
          0,
          105.26315789473685
         ],
         "title": {
          "text": "%"
         },
         "type": "linear"
        },
        "xaxis4": {
         "anchor": "y4",
         "autorange": true,
         "domain": [
          0.6120000000000001,
          0.7960000000000002
         ],
         "matches": "x",
         "range": [
          0,
          105.26315789473685
         ],
         "title": {
          "text": "%"
         },
         "type": "linear"
        },
        "xaxis5": {
         "anchor": "y5",
         "autorange": true,
         "domain": [
          0.8160000000000001,
          1
         ],
         "matches": "x",
         "range": [
          0,
          105.26315789473685
         ],
         "title": {
          "text": "%"
         },
         "type": "linear"
        },
        "yaxis": {
         "anchor": "x",
         "autorange": true,
         "domain": [
          0,
          1
         ],
         "range": [
          -0.5,
          10.5
         ],
         "title": {
          "text": "tema"
         },
         "type": "category"
        },
        "yaxis2": {
         "anchor": "x2",
         "autorange": true,
         "domain": [
          0,
          1
         ],
         "matches": "y",
         "range": [
          -0.5,
          10.5
         ],
         "showticklabels": false,
         "type": "category"
        },
        "yaxis3": {
         "anchor": "x3",
         "autorange": true,
         "domain": [
          0,
          1
         ],
         "matches": "y",
         "range": [
          -0.5,
          10.5
         ],
         "showticklabels": false,
         "type": "category"
        },
        "yaxis4": {
         "anchor": "x4",
         "autorange": true,
         "domain": [
          0,
          1
         ],
         "matches": "y",
         "range": [
          -0.5,
          10.5
         ],
         "showticklabels": false,
         "type": "category"
        },
        "yaxis5": {
         "anchor": "x5",
         "autorange": true,
         "domain": [
          0,
          1
         ],
         "matches": "y",
         "range": [
          -0.5,
          10.5
         ],
         "showticklabels": false,
         "type": "category"
        }
       }
      },
      "image/png": "[encoded data removed]",
      "text/html": [
       "<div>\n",
       "        \n",
       "        \n",
       "            <div id=\"340c875d-6531-490b-879f-70b677e76957\" class=\"plotly-graph-div\" style=\"height:525px; width:100%;\"></div>\n",
       "            <script type=\"text/javascript\">\n",
       "                require([\"plotly\"], function(Plotly) {\n",
       "                    window.PLOTLYENV=window.PLOTLYENV || {};\n",
       "                    \n",
       "                if (document.getElementById(\"340c875d-6531-490b-879f-70b677e76957\")) {\n",
       "                    Plotly.newPlot(\n",
       "                        '340c875d-6531-490b-879f-70b677e76957',\n",
       "                        [{\"alignmentgroup\": \"True\", \"hoverlabel\": {\"namelength\": 0}, \"hovertemplate\": \"alvo=Acerto<br>ano=2005<br>%=%{text}<br>tema=%{y}\", \"legendgroup\": \"Acerto\", \"marker\": {\"color\": \"#4C78A8\"}, \"name\": \"Acerto\", \"offsetgroup\": \"Acerto\", \"orientation\": \"h\", \"showlegend\": true, \"text\": [24.0, 20.0, 33.0, 33.0, 28.0, 50.0, 0.0, 30.0, 37.0, 30.0, 24.0], \"textposition\": \"auto\", \"type\": \"bar\", \"x\": [24, 20, 33, 33, 28, 50, 0, 30, 37, 30, 24], \"xaxis\": \"x\", \"y\": [\"AEDP\", \"ACCD\", \"BD\", \"CGPI\", \"ES\", \"ECS\", \"IA\", \"LFACC\", \"LMMDEG\", \"RCSDT\", \"SO\"], \"yaxis\": \"y\"}, {\"alignmentgroup\": \"True\", \"hoverlabel\": {\"namelength\": 0}, \"hovertemplate\": \"alvo=Acerto<br>ano=2008<br>%=%{text}<br>tema=%{y}\", \"legendgroup\": \"Acerto\", \"marker\": {\"color\": \"#4C78A8\"}, \"name\": \"Acerto\", \"offsetgroup\": \"Acerto\", \"orientation\": \"h\", \"showlegend\": false, \"text\": [28.0, 37.0, 18.0, 27.0, 24.0, 57.0, 45.0, 37.0, 28.0, 26.0, 53.0], \"textposition\": \"auto\", \"type\": \"bar\", \"x\": [28, 37, 18, 27, 24, 57, 45, 37, 28, 26, 53], \"xaxis\": \"x2\", \"y\": [\"AEDP\", \"ACCD\", \"BD\", \"CGPI\", \"ES\", \"ECS\", \"IA\", \"LFACC\", \"LMMDEG\", \"RCSDT\", \"SO\"], \"yaxis\": \"y2\"}, {\"alignmentgroup\": \"True\", \"hoverlabel\": {\"namelength\": 0}, \"hovertemplate\": \"alvo=Acerto<br>ano=2011<br>%=%{text}<br>tema=%{y}\", \"legendgroup\": \"Acerto\", \"marker\": {\"color\": \"#4C78A8\"}, \"name\": \"Acerto\", \"offsetgroup\": \"Acerto\", \"orientation\": \"h\", \"showlegend\": false, \"text\": [31.0, 44.0, 0.0, 0.0, 40.0, 0.0, 0.0, 28.0, 30.0, 20.0, 15.0], \"textposition\": \"auto\", \"type\": \"bar\", \"x\": [31, 44, 0, 0, 40, 0, 0, 28, 30, 20, 15], \"xaxis\": \"x3\", \"y\": [\"AEDP\", \"ACCD\", \"BD\", \"CGPI\", \"ES\", \"ECS\", \"IA\", \"LFACC\", \"LMMDEG\", \"RCSDT\", \"SO\"], \"yaxis\": \"y3\"}, {\"alignmentgroup\": \"True\", \"hoverlabel\": {\"namelength\": 0}, \"hovertemplate\": \"alvo=Acerto<br>ano=2014<br>%=%{text}<br>tema=%{y}\", \"legendgroup\": \"Acerto\", \"marker\": {\"color\": \"#4C78A8\"}, \"name\": \"Acerto\", \"offsetgroup\": \"Acerto\", \"orientation\": \"h\", \"showlegend\": false, \"text\": [29.0, 23.0, 33.0, 14.0, 67.0, 0.0, 0.0, 36.0, 44.0, 0.0, 68.0], \"textposition\": \"auto\", \"type\": \"bar\", \"x\": [29, 23, 33, 14, 67, 0, 0, 36, 44, 0, 68], \"xaxis\": \"x4\", \"y\": [\"AEDP\", \"ACCD\", \"BD\", \"CGPI\", \"ES\", \"ECS\", \"IA\", \"LFACC\", \"LMMDEG\", \"RCSDT\", \"SO\"], \"yaxis\": \"y4\"}, {\"alignmentgroup\": \"True\", \"hoverlabel\": {\"namelength\": 0}, \"hovertemplate\": \"alvo=Acerto<br>ano=2017<br>%=%{text}<br>tema=%{y}\", \"legendgroup\": \"Acerto\", \"marker\": {\"color\": \"#4C78A8\"}, \"name\": \"Acerto\", \"offsetgroup\": \"Acerto\", \"orientation\": \"h\", \"showlegend\": false, \"text\": [37.0, 34.0, 24.0, 37.0, 40.0, 34.0, 50.0, 22.0, 44.0, 30.0, 30.0], \"textposition\": \"auto\", \"type\": \"bar\", \"x\": [37, 34, 24, 37, 40, 34, 50, 22, 44, 30, 30], \"xaxis\": \"x5\", \"y\": [\"AEDP\", \"ACCD\", \"BD\", \"CGPI\", \"ES\", \"ECS\", \"IA\", \"LFACC\", \"LMMDEG\", \"RCSDT\", \"SO\"], \"yaxis\": \"y5\"}, {\"alignmentgroup\": \"True\", \"hoverlabel\": {\"namelength\": 0}, \"hovertemplate\": \"alvo=Erro<br>ano=2005<br>%=%{text}<br>tema=%{y}\", \"legendgroup\": \"Erro\", \"marker\": {\"color\": \"#F58518\"}, \"name\": \"Erro\", \"offsetgroup\": \"Erro\", \"orientation\": \"h\", \"showlegend\": true, \"text\": [76.0, 80.0, 67.0, 67.0, 72.0, 50.0, 0.0, 70.0, 63.0, 70.0, 76.0], \"textposition\": \"auto\", \"type\": \"bar\", \"x\": [76, 80, 67, 67, 72, 50, 0, 70, 63, 70, 76], \"xaxis\": \"x\", \"y\": [\"AEDP\", \"ACCD\", \"BD\", \"CGPI\", \"ES\", \"ECS\", \"IA\", \"LFACC\", \"LMMDEG\", \"RCSDT\", \"SO\"], \"yaxis\": \"y\"}, {\"alignmentgroup\": \"True\", \"hoverlabel\": {\"namelength\": 0}, \"hovertemplate\": \"alvo=Erro<br>ano=2008<br>%=%{text}<br>tema=%{y}\", \"legendgroup\": \"Erro\", \"marker\": {\"color\": \"#F58518\"}, \"name\": \"Erro\", \"offsetgroup\": \"Erro\", \"orientation\": \"h\", \"showlegend\": false, \"text\": [72.0, 63.0, 82.0, 73.0, 76.0, 43.0, 55.0, 63.0, 72.0, 74.0, 47.0], \"textposition\": \"auto\", \"type\": \"bar\", \"x\": [72, 63, 82, 73, 76, 43, 55, 63, 72, 74, 47], \"xaxis\": \"x2\", \"y\": [\"AEDP\", \"ACCD\", \"BD\", \"CGPI\", \"ES\", \"ECS\", \"IA\", \"LFACC\", \"LMMDEG\", \"RCSDT\", \"SO\"], \"yaxis\": \"y2\"}, {\"alignmentgroup\": \"True\", \"hoverlabel\": {\"namelength\": 0}, \"hovertemplate\": \"alvo=Erro<br>ano=2011<br>%=%{text}<br>tema=%{y}\", \"legendgroup\": \"Erro\", \"marker\": {\"color\": \"#F58518\"}, \"name\": \"Erro\", \"offsetgroup\": \"Erro\", \"orientation\": \"h\", \"showlegend\": false, \"text\": [69.0, 56.0, 0.0, 0.0, 60.0, 0.0, 0.0, 72.0, 70.0, 80.0, 85.0], \"textposition\": \"auto\", \"type\": \"bar\", \"x\": [69, 56, 0, 0, 60, 0, 0, 72, 70, 80, 85], \"xaxis\": \"x3\", \"y\": [\"AEDP\", \"ACCD\", \"BD\", \"CGPI\", \"ES\", \"ECS\", \"IA\", \"LFACC\", \"LMMDEG\", \"RCSDT\", \"SO\"], \"yaxis\": \"y3\"}, {\"alignmentgroup\": \"True\", \"hoverlabel\": {\"namelength\": 0}, \"hovertemplate\": \"alvo=Erro<br>ano=2014<br>%=%{text}<br>tema=%{y}\", \"legendgroup\": \"Erro\", \"marker\": {\"color\": \"#F58518\"}, \"name\": \"Erro\", \"offsetgroup\": \"Erro\", \"orientation\": \"h\", \"showlegend\": false, \"text\": [71.0, 77.0, 67.0, 86.0, 33.0, 0.0, 0.0, 64.0, 56.0, 0.0, 32.0], \"textposition\": \"auto\", \"type\": \"bar\", \"x\": [71, 77, 67, 86, 33, 0, 0, 64, 56, 0, 32], \"xaxis\": \"x4\", \"y\": [\"AEDP\", \"ACCD\", \"BD\", \"CGPI\", \"ES\", \"ECS\", \"IA\", \"LFACC\", \"LMMDEG\", \"RCSDT\", \"SO\"], \"yaxis\": \"y4\"}, {\"alignmentgroup\": \"True\", \"hoverlabel\": {\"namelength\": 0}, \"hovertemplate\": \"alvo=Erro<br>ano=2017<br>%=%{text}<br>tema=%{y}\", \"legendgroup\": \"Erro\", \"marker\": {\"color\": \"#F58518\"}, \"name\": \"Erro\", \"offsetgroup\": \"Erro\", \"orientation\": \"h\", \"showlegend\": false, \"text\": [63.0, 66.0, 76.0, 63.0, 60.0, 66.0, 50.0, 78.0, 56.0, 70.0, 70.0], \"textposition\": \"auto\", \"type\": \"bar\", \"x\": [63, 66, 76, 63, 60, 66, 50, 78, 56, 70, 70], \"xaxis\": \"x5\", \"y\": [\"AEDP\", \"ACCD\", \"BD\", \"CGPI\", \"ES\", \"ECS\", \"IA\", \"LFACC\", \"LMMDEG\", \"RCSDT\", \"SO\"], \"yaxis\": \"y5\"}],\n",
       "                        {\"annotations\": [{\"font\": {}, \"showarrow\": false, \"text\": \"ano=2005\", \"x\": 0.09200000000000001, \"xanchor\": \"center\", \"xref\": \"paper\", \"y\": 1.0, \"yanchor\": \"bottom\", \"yref\": \"paper\"}, {\"font\": {}, \"showarrow\": false, \"text\": \"ano=2008\", \"x\": 0.29600000000000004, \"xanchor\": \"center\", \"xref\": \"paper\", \"y\": 1.0, \"yanchor\": \"bottom\", \"yref\": \"paper\"}, {\"font\": {}, \"showarrow\": false, \"text\": \"ano=2011\", \"x\": 0.5, \"xanchor\": \"center\", \"xref\": \"paper\", \"y\": 1.0, \"yanchor\": \"bottom\", \"yref\": \"paper\"}, {\"font\": {}, \"showarrow\": false, \"text\": \"ano=2014\", \"x\": 0.7040000000000002, \"xanchor\": \"center\", \"xref\": \"paper\", \"y\": 1.0, \"yanchor\": \"bottom\", \"yref\": \"paper\"}, {\"font\": {}, \"showarrow\": false, \"text\": \"ano=2017\", \"x\": 0.908, \"xanchor\": \"center\", \"xref\": \"paper\", \"y\": 1.0, \"yanchor\": \"bottom\", \"yref\": \"paper\"}], \"barmode\": \"relative\", \"legend\": {\"title\": {\"text\": \"alvo\"}, \"tracegroupgap\": 0}, \"margin\": {\"t\": 60}, \"template\": {\"data\": {\"bar\": [{\"error_x\": {\"color\": \"#2a3f5f\"}, \"error_y\": {\"color\": \"#2a3f5f\"}, \"marker\": {\"line\": {\"color\": \"white\", \"width\": 0.5}}, \"type\": \"bar\"}], \"barpolar\": [{\"marker\": {\"line\": {\"color\": \"white\", \"width\": 0.5}}, \"type\": \"barpolar\"}], \"carpet\": [{\"aaxis\": {\"endlinecolor\": \"#2a3f5f\", \"gridcolor\": \"#C8D4E3\", \"linecolor\": \"#C8D4E3\", \"minorgridcolor\": \"#C8D4E3\", \"startlinecolor\": \"#2a3f5f\"}, \"baxis\": {\"endlinecolor\": \"#2a3f5f\", \"gridcolor\": \"#C8D4E3\", \"linecolor\": \"#C8D4E3\", \"minorgridcolor\": \"#C8D4E3\", \"startlinecolor\": \"#2a3f5f\"}, \"type\": \"carpet\"}], \"choropleth\": [{\"colorbar\": {\"outlinewidth\": 0, \"ticks\": \"\"}, \"type\": \"choropleth\"}], \"contour\": [{\"colorbar\": {\"outlinewidth\": 0, \"ticks\": \"\"}, \"colorscale\": [[0.0, \"#0d0887\"], [0.1111111111111111, \"#46039f\"], [0.2222222222222222, \"#7201a8\"], [0.3333333333333333, \"#9c179e\"], [0.4444444444444444, \"#bd3786\"], [0.5555555555555556, \"#d8576b\"], [0.6666666666666666, \"#ed7953\"], [0.7777777777777778, \"#fb9f3a\"], [0.8888888888888888, \"#fdca26\"], [1.0, \"#f0f921\"]], \"type\": \"contour\"}], \"contourcarpet\": [{\"colorbar\": {\"outlinewidth\": 0, \"ticks\": \"\"}, \"type\": \"contourcarpet\"}], \"heatmap\": [{\"colorbar\": {\"outlinewidth\": 0, \"ticks\": \"\"}, \"colorscale\": [[0.0, \"#0d0887\"], [0.1111111111111111, \"#46039f\"], [0.2222222222222222, \"#7201a8\"], [0.3333333333333333, \"#9c179e\"], [0.4444444444444444, \"#bd3786\"], [0.5555555555555556, \"#d8576b\"], [0.6666666666666666, \"#ed7953\"], [0.7777777777777778, \"#fb9f3a\"], [0.8888888888888888, \"#fdca26\"], [1.0, \"#f0f921\"]], \"type\": \"heatmap\"}], \"heatmapgl\": [{\"colorbar\": {\"outlinewidth\": 0, \"ticks\": \"\"}, \"colorscale\": [[0.0, \"#0d0887\"], [0.1111111111111111, \"#46039f\"], [0.2222222222222222, \"#7201a8\"], [0.3333333333333333, \"#9c179e\"], [0.4444444444444444, \"#bd3786\"], [0.5555555555555556, \"#d8576b\"], [0.6666666666666666, \"#ed7953\"], [0.7777777777777778, \"#fb9f3a\"], [0.8888888888888888, \"#fdca26\"], [1.0, \"#f0f921\"]], \"type\": \"heatmapgl\"}], \"histogram\": [{\"marker\": {\"colorbar\": {\"outlinewidth\": 0, \"ticks\": \"\"}}, \"type\": \"histogram\"}], \"histogram2d\": [{\"colorbar\": {\"outlinewidth\": 0, \"ticks\": \"\"}, \"colorscale\": [[0.0, \"#0d0887\"], [0.1111111111111111, \"#46039f\"], [0.2222222222222222, \"#7201a8\"], [0.3333333333333333, \"#9c179e\"], [0.4444444444444444, \"#bd3786\"], [0.5555555555555556, \"#d8576b\"], [0.6666666666666666, \"#ed7953\"], [0.7777777777777778, \"#fb9f3a\"], [0.8888888888888888, \"#fdca26\"], [1.0, \"#f0f921\"]], \"type\": \"histogram2d\"}], \"histogram2dcontour\": [{\"colorbar\": {\"outlinewidth\": 0, \"ticks\": \"\"}, \"colorscale\": [[0.0, \"#0d0887\"], [0.1111111111111111, \"#46039f\"], [0.2222222222222222, \"#7201a8\"], [0.3333333333333333, \"#9c179e\"], [0.4444444444444444, \"#bd3786\"], [0.5555555555555556, \"#d8576b\"], [0.6666666666666666, \"#ed7953\"], [0.7777777777777778, \"#fb9f3a\"], [0.8888888888888888, \"#fdca26\"], [1.0, \"#f0f921\"]], \"type\": \"histogram2dcontour\"}], \"mesh3d\": [{\"colorbar\": {\"outlinewidth\": 0, \"ticks\": \"\"}, \"type\": \"mesh3d\"}], \"parcoords\": [{\"line\": {\"colorbar\": {\"outlinewidth\": 0, \"ticks\": \"\"}}, \"type\": \"parcoords\"}], \"pie\": [{\"automargin\": true, \"type\": \"pie\"}], \"scatter\": [{\"marker\": {\"colorbar\": {\"outlinewidth\": 0, \"ticks\": \"\"}}, \"type\": \"scatter\"}], \"scatter3d\": [{\"line\": {\"colorbar\": {\"outlinewidth\": 0, \"ticks\": \"\"}}, \"marker\": {\"colorbar\": {\"outlinewidth\": 0, \"ticks\": \"\"}}, \"type\": \"scatter3d\"}], \"scattercarpet\": [{\"marker\": {\"colorbar\": {\"outlinewidth\": 0, \"ticks\": \"\"}}, \"type\": \"scattercarpet\"}], \"scattergeo\": [{\"marker\": {\"colorbar\": {\"outlinewidth\": 0, \"ticks\": \"\"}}, \"type\": \"scattergeo\"}], \"scattergl\": [{\"marker\": {\"colorbar\": {\"outlinewidth\": 0, \"ticks\": \"\"}}, \"type\": \"scattergl\"}], \"scattermapbox\": [{\"marker\": {\"colorbar\": {\"outlinewidth\": 0, \"ticks\": \"\"}}, \"type\": \"scattermapbox\"}], \"scatterpolar\": [{\"marker\": {\"colorbar\": {\"outlinewidth\": 0, \"ticks\": \"\"}}, \"type\": \"scatterpolar\"}], \"scatterpolargl\": [{\"marker\": {\"colorbar\": {\"outlinewidth\": 0, \"ticks\": \"\"}}, \"type\": \"scatterpolargl\"}], \"scatterternary\": [{\"marker\": {\"colorbar\": {\"outlinewidth\": 0, \"ticks\": \"\"}}, \"type\": \"scatterternary\"}], \"surface\": [{\"colorbar\": {\"outlinewidth\": 0, \"ticks\": \"\"}, \"colorscale\": [[0.0, \"#0d0887\"], [0.1111111111111111, \"#46039f\"], [0.2222222222222222, \"#7201a8\"], [0.3333333333333333, \"#9c179e\"], [0.4444444444444444, \"#bd3786\"], [0.5555555555555556, \"#d8576b\"], [0.6666666666666666, \"#ed7953\"], [0.7777777777777778, \"#fb9f3a\"], [0.8888888888888888, \"#fdca26\"], [1.0, \"#f0f921\"]], \"type\": \"surface\"}], \"table\": [{\"cells\": {\"fill\": {\"color\": \"#EBF0F8\"}, \"line\": {\"color\": \"white\"}}, \"header\": {\"fill\": {\"color\": \"#C8D4E3\"}, \"line\": {\"color\": \"white\"}}, \"type\": \"table\"}]}, \"layout\": {\"annotationdefaults\": {\"arrowcolor\": \"#2a3f5f\", \"arrowhead\": 0, \"arrowwidth\": 1}, \"coloraxis\": {\"colorbar\": {\"outlinewidth\": 0, \"ticks\": \"\"}}, \"colorscale\": {\"diverging\": [[0, \"#8e0152\"], [0.1, \"#c51b7d\"], [0.2, \"#de77ae\"], [0.3, \"#f1b6da\"], [0.4, \"#fde0ef\"], [0.5, \"#f7f7f7\"], [0.6, \"#e6f5d0\"], [0.7, \"#b8e186\"], [0.8, \"#7fbc41\"], [0.9, \"#4d9221\"], [1, \"#276419\"]], \"sequential\": [[0.0, \"#0d0887\"], [0.1111111111111111, \"#46039f\"], [0.2222222222222222, \"#7201a8\"], [0.3333333333333333, \"#9c179e\"], [0.4444444444444444, \"#bd3786\"], [0.5555555555555556, \"#d8576b\"], [0.6666666666666666, \"#ed7953\"], [0.7777777777777778, \"#fb9f3a\"], [0.8888888888888888, \"#fdca26\"], [1.0, \"#f0f921\"]], \"sequentialminus\": [[0.0, \"#0d0887\"], [0.1111111111111111, \"#46039f\"], [0.2222222222222222, \"#7201a8\"], [0.3333333333333333, \"#9c179e\"], [0.4444444444444444, \"#bd3786\"], [0.5555555555555556, \"#d8576b\"], [0.6666666666666666, \"#ed7953\"], [0.7777777777777778, \"#fb9f3a\"], [0.8888888888888888, \"#fdca26\"], [1.0, \"#f0f921\"]]}, \"colorway\": [\"#636efa\", \"#EF553B\", \"#00cc96\", \"#ab63fa\", \"#FFA15A\", \"#19d3f3\", \"#FF6692\", \"#B6E880\", \"#FF97FF\", \"#FECB52\"], \"font\": {\"color\": \"#2a3f5f\"}, \"geo\": {\"bgcolor\": \"white\", \"lakecolor\": \"white\", \"landcolor\": \"white\", \"showlakes\": true, \"showland\": true, \"subunitcolor\": \"#C8D4E3\"}, \"hoverlabel\": {\"align\": \"left\"}, \"hovermode\": \"closest\", \"mapbox\": {\"style\": \"light\"}, \"paper_bgcolor\": \"white\", \"plot_bgcolor\": \"white\", \"polar\": {\"angularaxis\": {\"gridcolor\": \"#EBF0F8\", \"linecolor\": \"#EBF0F8\", \"ticks\": \"\"}, \"bgcolor\": \"white\", \"radialaxis\": {\"gridcolor\": \"#EBF0F8\", \"linecolor\": \"#EBF0F8\", \"ticks\": \"\"}}, \"scene\": {\"xaxis\": {\"backgroundcolor\": \"white\", \"gridcolor\": \"#DFE8F3\", \"gridwidth\": 2, \"linecolor\": \"#EBF0F8\", \"showbackground\": true, \"ticks\": \"\", \"zerolinecolor\": \"#EBF0F8\"}, \"yaxis\": {\"backgroundcolor\": \"white\", \"gridcolor\": \"#DFE8F3\", \"gridwidth\": 2, \"linecolor\": \"#EBF0F8\", \"showbackground\": true, \"ticks\": \"\", \"zerolinecolor\": \"#EBF0F8\"}, \"zaxis\": {\"backgroundcolor\": \"white\", \"gridcolor\": \"#DFE8F3\", \"gridwidth\": 2, \"linecolor\": \"#EBF0F8\", \"showbackground\": true, \"ticks\": \"\", \"zerolinecolor\": \"#EBF0F8\"}}, \"shapedefaults\": {\"line\": {\"color\": \"#2a3f5f\"}}, \"ternary\": {\"aaxis\": {\"gridcolor\": \"#DFE8F3\", \"linecolor\": \"#A2B1C6\", \"ticks\": \"\"}, \"baxis\": {\"gridcolor\": \"#DFE8F3\", \"linecolor\": \"#A2B1C6\", \"ticks\": \"\"}, \"bgcolor\": \"white\", \"caxis\": {\"gridcolor\": \"#DFE8F3\", \"linecolor\": \"#A2B1C6\", \"ticks\": \"\"}}, \"title\": {\"x\": 0.05}, \"xaxis\": {\"automargin\": true, \"gridcolor\": \"#EBF0F8\", \"linecolor\": \"#EBF0F8\", \"ticks\": \"\", \"title\": {\"standoff\": 15}, \"zerolinecolor\": \"#EBF0F8\", \"zerolinewidth\": 2}, \"yaxis\": {\"automargin\": true, \"gridcolor\": \"#EBF0F8\", \"linecolor\": \"#EBF0F8\", \"ticks\": \"\", \"title\": {\"standoff\": 15}, \"zerolinecolor\": \"#EBF0F8\", \"zerolinewidth\": 2}}}, \"xaxis\": {\"anchor\": \"y\", \"domain\": [0.0, 0.18400000000000002], \"title\": {\"text\": \"%\"}}, \"xaxis2\": {\"anchor\": \"y2\", \"domain\": [0.20400000000000001, 0.388], \"matches\": \"x\", \"title\": {\"text\": \"%\"}}, \"xaxis3\": {\"anchor\": \"y3\", \"domain\": [0.40800000000000003, 0.5920000000000001], \"matches\": \"x\", \"title\": {\"text\": \"%\"}}, \"xaxis4\": {\"anchor\": \"y4\", \"domain\": [0.6120000000000001, 0.7960000000000002], \"matches\": \"x\", \"title\": {\"text\": \"%\"}}, \"xaxis5\": {\"anchor\": \"y5\", \"domain\": [0.8160000000000001, 1.0], \"matches\": \"x\", \"title\": {\"text\": \"%\"}}, \"yaxis\": {\"anchor\": \"x\", \"domain\": [0.0, 1.0], \"title\": {\"text\": \"tema\"}}, \"yaxis2\": {\"anchor\": \"x2\", \"domain\": [0.0, 1.0], \"matches\": \"y\", \"showticklabels\": false}, \"yaxis3\": {\"anchor\": \"x3\", \"domain\": [0.0, 1.0], \"matches\": \"y\", \"showticklabels\": false}, \"yaxis4\": {\"anchor\": \"x4\", \"domain\": [0.0, 1.0], \"matches\": \"y\", \"showticklabels\": false}, \"yaxis5\": {\"anchor\": \"x5\", \"domain\": [0.0, 1.0], \"matches\": \"y\", \"showticklabels\": false}},\n",
       "                        {\"responsive\": true}\n",
       "                    ).then(function(){\n",
       "                            \n",
       "var gd = document.getElementById('340c875d-6531-490b-879f-70b677e76957');\n",
       "var x = new MutationObserver(function (mutations, observer) {{\n",
       "        var display = window.getComputedStyle(gd).display;\n",
       "        if (!display || display === 'none') {{\n",
       "            console.log([gd, 'removed!']);\n",
       "            Plotly.purge(gd);\n",
       "            observer.disconnect();\n",
       "        }}\n",
       "}});\n",
       "\n",
       "// Listen for the removal of the full notebook cells\n",
       "var notebookContainer = gd.closest('#notebook-container');\n",
       "if (notebookContainer) {{\n",
       "    x.observe(notebookContainer, {childList: true});\n",
       "}}\n",
       "\n",
       "// Listen for the clearing of the current output cell\n",
       "var outputEl = gd.closest('.output');\n",
       "if (outputEl) {{\n",
       "    x.observe(outputEl, {childList: true});\n",
       "}}\n",
       "\n",
       "                        })\n",
       "                };\n",
       "                });\n",
       "            </script>\n",
       "        </div>"
      ]
     },
     "metadata": {},
     "output_type": "display_data"
    }
   ],
   "source": [
    "# data.sort_values(by=[\"tema\"], inplace=True)\n",
    "\n",
    "fig = px.bar(data, x=\"%\", y=\"tema\", orientation=\"h\", facet_col=\"ano\", color=\"alvo\",\\\n",
    "             color_discrete_sequence=[\"#4C78A8\", \"#F58518\"], template=\"plotly_white\", text=\"%\")\n",
    "fig.show()\n",
    "# quadrado com o traço"
   ]
  },
  {
   "cell_type": "code",
   "execution_count": 6,
   "metadata": {},
   "outputs": [],
   "source": [
    "# data[\"Ano\"] = data[\"Ano\"].astype(\"category\")\n",
    "# data.sort_values(by=[\"Acerto\"], inplace=True)\n",
    "\n",
    "# data.groupby([\"Tema\", \"Acerto\"])[\"Acerto\"].sum()\n",
    "# # grad_sit.columns = [\"Situação\", \"Formação\", \"qtd\"]\n",
    "\n",
    "# # fig = px.bar(data, x=\"Tema\", y=\"Acerto\", orientation=\"v\", color=\"Tema\")\n",
    "# # fig.update_layout(yaxis={'categoryorder':'total ascending'})\n",
    "# # fig.show()"
   ]
  },
  {
   "cell_type": "code",
   "execution_count": null,
   "metadata": {},
   "outputs": [],
   "source": []
  },
  {
   "cell_type": "code",
   "execution_count": null,
   "metadata": {},
   "outputs": [],
   "source": []
  }
 ],
 "metadata": {
  "kernelspec": {
   "display_name": "Python 3",
   "language": "python",
   "name": "python3"
  },
  "language_info": {
   "codemirror_mode": {
    "name": "ipython",
    "version": 3
   },
   "file_extension": ".py",
   "mimetype": "text/x-python",
   "name": "python",
   "nbconvert_exporter": "python",
   "pygments_lexer": "ipython3",
   "version": "3.7.4"
  }
 },
 "nbformat": 4,
 "nbformat_minor": 4
}
