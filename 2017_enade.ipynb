{
 "cells": [
  {
   "cell_type": "code",
   "execution_count": 8,
   "metadata": {},
   "outputs": [],
   "source": [
    "import numpy as np\n",
    "import pandas as pd\n",
    "import matplotlib.pyplot as plt"
   ]
  },
  {
   "cell_type": "code",
   "execution_count": 9,
   "metadata": {},
   "outputs": [
    {
     "name": "stderr",
     "output_type": "stream",
     "text": [
      "/Users/joaooliveira/opt/anaconda3/lib/python3.7/site-packages/IPython/core/interactiveshell.py:3058: DtypeWarning: Columns (29,31,32,44,45,46,47,54,55,56) have mixed types.Specify dtype option on import or set low_memory=False.\n",
      "  interactivity=interactivity, compiler=compiler, result=result)\n"
     ]
    },
    {
     "name": "stdout",
     "output_type": "stream",
     "text": [
      "<class 'pandas.core.frame.DataFrame'>\n",
      "RangeIndex: 537436 entries, 0 to 537435\n",
      "Columns: 150 entries, NU_ANO to QE_I81\n",
      "dtypes: float64(67), int64(21), object(62)\n",
      "memory usage: 615.0+ MB\n"
     ]
    }
   ],
   "source": [
    "data = pd.read_csv('MICRODADOS_ENADE_2017.txt', sep=\";\")\n",
    "data.info()"
   ]
  },
  {
   "cell_type": "code",
   "execution_count": 10,
   "metadata": {},
   "outputs": [
    {
     "data": {
      "text/html": [
       "<div>\n",
       "<style scoped>\n",
       "    .dataframe tbody tr th:only-of-type {\n",
       "        vertical-align: middle;\n",
       "    }\n",
       "\n",
       "    .dataframe tbody tr th {\n",
       "        vertical-align: top;\n",
       "    }\n",
       "\n",
       "    .dataframe thead th {\n",
       "        text-align: right;\n",
       "    }\n",
       "</style>\n",
       "<table border=\"1\" class=\"dataframe\">\n",
       "  <thead>\n",
       "    <tr style=\"text-align: right;\">\n",
       "      <th></th>\n",
       "      <th>NU_ANO</th>\n",
       "      <th>CO_IES</th>\n",
       "      <th>CO_CATEGAD</th>\n",
       "      <th>CO_ORGACAD</th>\n",
       "      <th>CO_GRUPO</th>\n",
       "      <th>CO_CURSO</th>\n",
       "      <th>CO_MODALIDADE</th>\n",
       "      <th>CO_MUNIC_CURSO</th>\n",
       "      <th>CO_UF_CURSO</th>\n",
       "      <th>CO_REGIAO_CURSO</th>\n",
       "      <th>...</th>\n",
       "      <th>QE_I72</th>\n",
       "      <th>QE_I73</th>\n",
       "      <th>QE_I74</th>\n",
       "      <th>QE_I75</th>\n",
       "      <th>QE_I76</th>\n",
       "      <th>QE_I77</th>\n",
       "      <th>QE_I78</th>\n",
       "      <th>QE_I79</th>\n",
       "      <th>QE_I80</th>\n",
       "      <th>QE_I81</th>\n",
       "    </tr>\n",
       "  </thead>\n",
       "  <tbody>\n",
       "    <tr>\n",
       "      <th>0</th>\n",
       "      <td>2017</td>\n",
       "      <td>1</td>\n",
       "      <td>1</td>\n",
       "      <td>10028</td>\n",
       "      <td>5710</td>\n",
       "      <td>3</td>\n",
       "      <td>1</td>\n",
       "      <td>5103403</td>\n",
       "      <td>51</td>\n",
       "      <td>5</td>\n",
       "      <td>...</td>\n",
       "      <td>NaN</td>\n",
       "      <td>NaN</td>\n",
       "      <td>NaN</td>\n",
       "      <td>NaN</td>\n",
       "      <td>NaN</td>\n",
       "      <td>NaN</td>\n",
       "      <td>NaN</td>\n",
       "      <td>NaN</td>\n",
       "      <td>NaN</td>\n",
       "      <td>NaN</td>\n",
       "    </tr>\n",
       "    <tr>\n",
       "      <th>1</th>\n",
       "      <td>2017</td>\n",
       "      <td>1</td>\n",
       "      <td>1</td>\n",
       "      <td>10028</td>\n",
       "      <td>5710</td>\n",
       "      <td>3</td>\n",
       "      <td>1</td>\n",
       "      <td>5103403</td>\n",
       "      <td>51</td>\n",
       "      <td>5</td>\n",
       "      <td>...</td>\n",
       "      <td>NaN</td>\n",
       "      <td>NaN</td>\n",
       "      <td>NaN</td>\n",
       "      <td>NaN</td>\n",
       "      <td>NaN</td>\n",
       "      <td>NaN</td>\n",
       "      <td>NaN</td>\n",
       "      <td>NaN</td>\n",
       "      <td>NaN</td>\n",
       "      <td>NaN</td>\n",
       "    </tr>\n",
       "    <tr>\n",
       "      <th>2</th>\n",
       "      <td>2017</td>\n",
       "      <td>1</td>\n",
       "      <td>1</td>\n",
       "      <td>10028</td>\n",
       "      <td>5710</td>\n",
       "      <td>3</td>\n",
       "      <td>1</td>\n",
       "      <td>5103403</td>\n",
       "      <td>51</td>\n",
       "      <td>5</td>\n",
       "      <td>...</td>\n",
       "      <td>NaN</td>\n",
       "      <td>NaN</td>\n",
       "      <td>NaN</td>\n",
       "      <td>NaN</td>\n",
       "      <td>NaN</td>\n",
       "      <td>NaN</td>\n",
       "      <td>NaN</td>\n",
       "      <td>NaN</td>\n",
       "      <td>NaN</td>\n",
       "      <td>NaN</td>\n",
       "    </tr>\n",
       "    <tr>\n",
       "      <th>3</th>\n",
       "      <td>2017</td>\n",
       "      <td>1</td>\n",
       "      <td>1</td>\n",
       "      <td>10028</td>\n",
       "      <td>5710</td>\n",
       "      <td>3</td>\n",
       "      <td>1</td>\n",
       "      <td>5103403</td>\n",
       "      <td>51</td>\n",
       "      <td>5</td>\n",
       "      <td>...</td>\n",
       "      <td>NaN</td>\n",
       "      <td>NaN</td>\n",
       "      <td>NaN</td>\n",
       "      <td>NaN</td>\n",
       "      <td>NaN</td>\n",
       "      <td>NaN</td>\n",
       "      <td>NaN</td>\n",
       "      <td>NaN</td>\n",
       "      <td>NaN</td>\n",
       "      <td>NaN</td>\n",
       "    </tr>\n",
       "    <tr>\n",
       "      <th>4</th>\n",
       "      <td>2017</td>\n",
       "      <td>1</td>\n",
       "      <td>1</td>\n",
       "      <td>10028</td>\n",
       "      <td>5710</td>\n",
       "      <td>3</td>\n",
       "      <td>1</td>\n",
       "      <td>5103403</td>\n",
       "      <td>51</td>\n",
       "      <td>5</td>\n",
       "      <td>...</td>\n",
       "      <td>NaN</td>\n",
       "      <td>NaN</td>\n",
       "      <td>NaN</td>\n",
       "      <td>NaN</td>\n",
       "      <td>NaN</td>\n",
       "      <td>NaN</td>\n",
       "      <td>NaN</td>\n",
       "      <td>NaN</td>\n",
       "      <td>NaN</td>\n",
       "      <td>NaN</td>\n",
       "    </tr>\n",
       "  </tbody>\n",
       "</table>\n",
       "<p>5 rows × 150 columns</p>\n",
       "</div>"
      ],
      "text/plain": [
       "   NU_ANO  CO_IES  CO_CATEGAD  CO_ORGACAD  CO_GRUPO  CO_CURSO  CO_MODALIDADE  \\\n",
       "0    2017       1           1       10028      5710         3              1   \n",
       "1    2017       1           1       10028      5710         3              1   \n",
       "2    2017       1           1       10028      5710         3              1   \n",
       "3    2017       1           1       10028      5710         3              1   \n",
       "4    2017       1           1       10028      5710         3              1   \n",
       "\n",
       "   CO_MUNIC_CURSO  CO_UF_CURSO  CO_REGIAO_CURSO  ...  QE_I72 QE_I73  QE_I74  \\\n",
       "0         5103403           51                5  ...     NaN    NaN     NaN   \n",
       "1         5103403           51                5  ...     NaN    NaN     NaN   \n",
       "2         5103403           51                5  ...     NaN    NaN     NaN   \n",
       "3         5103403           51                5  ...     NaN    NaN     NaN   \n",
       "4         5103403           51                5  ...     NaN    NaN     NaN   \n",
       "\n",
       "   QE_I75  QE_I76  QE_I77  QE_I78  QE_I79  QE_I80  QE_I81  \n",
       "0     NaN     NaN     NaN     NaN     NaN     NaN     NaN  \n",
       "1     NaN     NaN     NaN     NaN     NaN     NaN     NaN  \n",
       "2     NaN     NaN     NaN     NaN     NaN     NaN     NaN  \n",
       "3     NaN     NaN     NaN     NaN     NaN     NaN     NaN  \n",
       "4     NaN     NaN     NaN     NaN     NaN     NaN     NaN  \n",
       "\n",
       "[5 rows x 150 columns]"
      ]
     },
     "execution_count": 10,
     "metadata": {},
     "output_type": "execute_result"
    }
   ],
   "source": [
    "data.head()"
   ]
  },
  {
   "cell_type": "code",
   "execution_count": 11,
   "metadata": {},
   "outputs": [
    {
     "name": "stdout",
     "output_type": "stream",
     "text": [
      "Original: 2017 537436\n",
      "Filtrados:  8491\n"
     ]
    }
   ],
   "source": [
    "print(\"Original: 2017\",len(data))\n",
    "\n",
    "data = data[(data[\"CO_GRUPO\"] == 4004) & # Ciência Da Computação Bacharelado\n",
    "            (data[\"TP_PRES\"] == 555)].copy()\n",
    "\n",
    "print(\"Filtrados: \",len(data))"
   ]
  },
  {
   "cell_type": "code",
   "execution_count": 12,
   "metadata": {},
   "outputs": [],
   "source": [
    "data[\"CO_CATEGAD\"] = data[\"CO_CATEGAD\"].replace({1: 'Pub',\\\n",
    "                                                 2: 'Pub',\\\n",
    "                                                 3: 'Pub',\\\n",
    "                                                 4: 'Pri',\\\n",
    "                                                 5: 'Pri',\\\n",
    "                                                 7: 'Pri'}).copy()\n",
    "\n",
    "data[\"CO_REGIAO_CURSO\"] = data[\"CO_REGIAO_CURSO\"].replace({1: 'Norte',\\\n",
    "                                                           2: 'Nordeste',\\\n",
    "                                                           3: 'Sudeste',\\\n",
    "                                                           4: 'Sul',\\\n",
    "                                                           5: 'Centro-Oeste'}).copy()"
   ]
  },
  {
   "cell_type": "code",
   "execution_count": 13,
   "metadata": {},
   "outputs": [
    {
     "name": "stdout",
     "output_type": "stream",
     "text": [
      "2017_Tamanho:  8491\n"
     ]
    },
    {
     "data": {
      "text/plain": [
       "CO_REGIAO_CURSO  CO_CATEGAD\n",
       "Centro-Oeste     Pri            326\n",
       "                 Pub            295\n",
       "Nordeste         Pri            612\n",
       "                 Pub           1030\n",
       "Norte            Pri            223\n",
       "                 Pub            192\n",
       "Sudeste          Pri           2663\n",
       "                 Pub           1555\n",
       "Sul              Pri            816\n",
       "                 Pub            779\n",
       "dtype: int64"
      ]
     },
     "execution_count": 13,
     "metadata": {},
     "output_type": "execute_result"
    }
   ],
   "source": [
    "print (\"2017_Tamanho: \", data.groupby(\"CO_REGIAO_CURSO\").size().sum())\n",
    "data.groupby([\"CO_REGIAO_CURSO\",\"CO_CATEGAD\"]).size()"
   ]
  },
  {
   "cell_type": "code",
   "execution_count": 14,
   "metadata": {},
   "outputs": [
    {
     "name": "stdout",
     "output_type": "stream",
     "text": [
      "2017_Tamanho:  8491\n",
      "#Sexo::: M: 7468 - F:1023\n"
     ]
    }
   ],
   "source": [
    "print (\"2017_Tamanho: \", data.groupby(\"CO_REGIAO_CURSO\").size().sum())\n",
    "\n",
    "print (\"#Sexo::: M: {} - F:{}\".format(data.groupby(\"TP_SEXO\").size().to_list()[1],\\\n",
    "                                  data.groupby(\"TP_SEXO\").size().to_list()[0]))"
   ]
  },
  {
   "cell_type": "code",
   "execution_count": null,
   "metadata": {},
   "outputs": [],
   "source": []
  },
  {
   "cell_type": "code",
   "execution_count": null,
   "metadata": {},
   "outputs": [],
   "source": []
  },
  {
   "cell_type": "code",
   "execution_count": null,
   "metadata": {},
   "outputs": [],
   "source": []
  }
 ],
 "metadata": {
  "kernelspec": {
   "display_name": "Python 3",
   "language": "python",
   "name": "python3"
  },
  "language_info": {
   "codemirror_mode": {
    "name": "ipython",
    "version": 3
   },
   "file_extension": ".py",
   "mimetype": "text/x-python",
   "name": "python",
   "nbconvert_exporter": "python",
   "pygments_lexer": "ipython3",
   "version": "3.7.4"
  }
 },
 "nbformat": 4,
 "nbformat_minor": 4
}
