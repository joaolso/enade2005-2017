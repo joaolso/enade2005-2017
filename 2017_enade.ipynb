{
 "cells": [
  {
   "cell_type": "code",
   "execution_count": 3,
   "metadata": {},
   "outputs": [],
   "source": [
    "import numpy as np\n",
    "import pandas as pd\n",
    "import matplotlib.pyplot as plt"
   ]
  },
  {
   "cell_type": "code",
   "execution_count": 4,
   "metadata": {},
   "outputs": [
    {
     "name": "stderr",
     "output_type": "stream",
     "text": [
      "/Users/joaooliveira/opt/anaconda3/lib/python3.7/site-packages/IPython/core/interactiveshell.py:3058: DtypeWarning: Columns (29,31,32,44,45,46,47,54,55,56) have mixed types.Specify dtype option on import or set low_memory=False.\n",
      "  interactivity=interactivity, compiler=compiler, result=result)\n"
     ]
    },
    {
     "data": {
      "text/html": [
       "<div>\n",
       "<style scoped>\n",
       "    .dataframe tbody tr th:only-of-type {\n",
       "        vertical-align: middle;\n",
       "    }\n",
       "\n",
       "    .dataframe tbody tr th {\n",
       "        vertical-align: top;\n",
       "    }\n",
       "\n",
       "    .dataframe thead th {\n",
       "        text-align: right;\n",
       "    }\n",
       "</style>\n",
       "<table border=\"1\" class=\"dataframe\">\n",
       "  <thead>\n",
       "    <tr style=\"text-align: right;\">\n",
       "      <th></th>\n",
       "      <th>NU_ANO</th>\n",
       "      <th>CO_IES</th>\n",
       "      <th>CO_CATEGAD</th>\n",
       "      <th>CO_ORGACAD</th>\n",
       "      <th>CO_GRUPO</th>\n",
       "      <th>CO_CURSO</th>\n",
       "      <th>CO_MODALIDADE</th>\n",
       "      <th>CO_MUNIC_CURSO</th>\n",
       "      <th>CO_UF_CURSO</th>\n",
       "      <th>CO_REGIAO_CURSO</th>\n",
       "      <th>...</th>\n",
       "      <th>QE_I72</th>\n",
       "      <th>QE_I73</th>\n",
       "      <th>QE_I74</th>\n",
       "      <th>QE_I75</th>\n",
       "      <th>QE_I76</th>\n",
       "      <th>QE_I77</th>\n",
       "      <th>QE_I78</th>\n",
       "      <th>QE_I79</th>\n",
       "      <th>QE_I80</th>\n",
       "      <th>QE_I81</th>\n",
       "    </tr>\n",
       "  </thead>\n",
       "  <tbody>\n",
       "    <tr>\n",
       "      <th>0</th>\n",
       "      <td>2017</td>\n",
       "      <td>1</td>\n",
       "      <td>1</td>\n",
       "      <td>10028</td>\n",
       "      <td>5710</td>\n",
       "      <td>3</td>\n",
       "      <td>1</td>\n",
       "      <td>5103403</td>\n",
       "      <td>51</td>\n",
       "      <td>5</td>\n",
       "      <td>...</td>\n",
       "      <td>NaN</td>\n",
       "      <td>NaN</td>\n",
       "      <td>NaN</td>\n",
       "      <td>NaN</td>\n",
       "      <td>NaN</td>\n",
       "      <td>NaN</td>\n",
       "      <td>NaN</td>\n",
       "      <td>NaN</td>\n",
       "      <td>NaN</td>\n",
       "      <td>NaN</td>\n",
       "    </tr>\n",
       "    <tr>\n",
       "      <th>1</th>\n",
       "      <td>2017</td>\n",
       "      <td>1</td>\n",
       "      <td>1</td>\n",
       "      <td>10028</td>\n",
       "      <td>5710</td>\n",
       "      <td>3</td>\n",
       "      <td>1</td>\n",
       "      <td>5103403</td>\n",
       "      <td>51</td>\n",
       "      <td>5</td>\n",
       "      <td>...</td>\n",
       "      <td>NaN</td>\n",
       "      <td>NaN</td>\n",
       "      <td>NaN</td>\n",
       "      <td>NaN</td>\n",
       "      <td>NaN</td>\n",
       "      <td>NaN</td>\n",
       "      <td>NaN</td>\n",
       "      <td>NaN</td>\n",
       "      <td>NaN</td>\n",
       "      <td>NaN</td>\n",
       "    </tr>\n",
       "    <tr>\n",
       "      <th>2</th>\n",
       "      <td>2017</td>\n",
       "      <td>1</td>\n",
       "      <td>1</td>\n",
       "      <td>10028</td>\n",
       "      <td>5710</td>\n",
       "      <td>3</td>\n",
       "      <td>1</td>\n",
       "      <td>5103403</td>\n",
       "      <td>51</td>\n",
       "      <td>5</td>\n",
       "      <td>...</td>\n",
       "      <td>NaN</td>\n",
       "      <td>NaN</td>\n",
       "      <td>NaN</td>\n",
       "      <td>NaN</td>\n",
       "      <td>NaN</td>\n",
       "      <td>NaN</td>\n",
       "      <td>NaN</td>\n",
       "      <td>NaN</td>\n",
       "      <td>NaN</td>\n",
       "      <td>NaN</td>\n",
       "    </tr>\n",
       "  </tbody>\n",
       "</table>\n",
       "<p>3 rows × 150 columns</p>\n",
       "</div>"
      ],
      "text/plain": [
       "   NU_ANO  CO_IES  CO_CATEGAD  CO_ORGACAD  CO_GRUPO  CO_CURSO  CO_MODALIDADE  \\\n",
       "0    2017       1           1       10028      5710         3              1   \n",
       "1    2017       1           1       10028      5710         3              1   \n",
       "2    2017       1           1       10028      5710         3              1   \n",
       "\n",
       "   CO_MUNIC_CURSO  CO_UF_CURSO  CO_REGIAO_CURSO  ...  QE_I72 QE_I73  QE_I74  \\\n",
       "0         5103403           51                5  ...     NaN    NaN     NaN   \n",
       "1         5103403           51                5  ...     NaN    NaN     NaN   \n",
       "2         5103403           51                5  ...     NaN    NaN     NaN   \n",
       "\n",
       "   QE_I75  QE_I76  QE_I77  QE_I78  QE_I79  QE_I80  QE_I81  \n",
       "0     NaN     NaN     NaN     NaN     NaN     NaN     NaN  \n",
       "1     NaN     NaN     NaN     NaN     NaN     NaN     NaN  \n",
       "2     NaN     NaN     NaN     NaN     NaN     NaN     NaN  \n",
       "\n",
       "[3 rows x 150 columns]"
      ]
     },
     "execution_count": 4,
     "metadata": {},
     "output_type": "execute_result"
    }
   ],
   "source": [
    "data = pd.read_csv('MICRODADOS_ENADE_2017.txt', sep=\";\")\n",
    "data.head(3)"
   ]
  },
  {
   "cell_type": "code",
   "execution_count": 5,
   "metadata": {},
   "outputs": [
    {
     "name": "stdout",
     "output_type": "stream",
     "text": [
      "Original: 2017 537436\n",
      "Filtrados:  8491\n"
     ]
    }
   ],
   "source": [
    "print(\"Original: 2017\",len(data))\n",
    "\n",
    "data = data[(data[\"CO_GRUPO\"] == 4004) & # Ciência Da Computação Bacharelado\n",
    "            (data[\"TP_PRES\"] == 555)].copy()\n",
    "\n",
    "print(\"Filtrados: \",len(data))"
   ]
  },
  {
   "cell_type": "code",
   "execution_count": 6,
   "metadata": {},
   "outputs": [],
   "source": [
    "data[\"CO_CATEGAD\"] = data[\"CO_CATEGAD\"].replace({1: 'Pub',\\\n",
    "                                                 2: 'Pub',\\\n",
    "                                                 3: 'Pub',\\\n",
    "                                                 4: 'Pri',\\\n",
    "                                                 5: 'Pri',\\\n",
    "                                                 7: 'Pri'}).copy()\n",
    "\n",
    "data[\"CO_REGIAO_CURSO\"] = data[\"CO_REGIAO_CURSO\"].replace({1: 'Norte',\\\n",
    "                                                           2: 'Nordeste',\\\n",
    "                                                           3: 'Sudeste',\\\n",
    "                                                           4: 'Sul',\\\n",
    "                                                           5: 'Centro-Oeste'}).copy()"
   ]
  },
  {
   "cell_type": "code",
   "execution_count": 7,
   "metadata": {},
   "outputs": [
    {
     "name": "stdout",
     "output_type": "stream",
     "text": [
      "2017_Tamanho:  8491\n"
     ]
    },
    {
     "data": {
      "text/plain": [
       "CO_REGIAO_CURSO  CO_CATEGAD\n",
       "Centro-Oeste     Pri            326\n",
       "                 Pub            295\n",
       "Nordeste         Pri            612\n",
       "                 Pub           1030\n",
       "Norte            Pri            223\n",
       "                 Pub            192\n",
       "Sudeste          Pri           2663\n",
       "                 Pub           1555\n",
       "Sul              Pri            816\n",
       "                 Pub            779\n",
       "dtype: int64"
      ]
     },
     "execution_count": 7,
     "metadata": {},
     "output_type": "execute_result"
    }
   ],
   "source": [
    "print (\"2017_Tamanho: \", data.groupby(\"CO_REGIAO_CURSO\").size().sum())\n",
    "data.groupby([\"CO_REGIAO_CURSO\",\"CO_CATEGAD\"]).size()"
   ]
  },
  {
   "cell_type": "code",
   "execution_count": 8,
   "metadata": {},
   "outputs": [
    {
     "name": "stdout",
     "output_type": "stream",
     "text": [
      "2017_Tamanho:  8491\n",
      "#Sexo::: M: 7468 - F:1023\n"
     ]
    }
   ],
   "source": [
    "print (\"2017_Tamanho: \", data.groupby(\"CO_REGIAO_CURSO\").size().sum())\n",
    "\n",
    "print (\"#Sexo::: M: {} - F:{}\".format(data.groupby(\"TP_SEXO\").size().to_list()[1],\\\n",
    "                                  data.groupby(\"TP_SEXO\").size().to_list()[0]))"
   ]
  },
  {
   "cell_type": "code",
   "execution_count": 9,
   "metadata": {},
   "outputs": [],
   "source": [
    "data.dropna(subset=[\"DS_VT_ACE_OCE\"], inplace=True)\n",
    "data.reset_index(inplace=True)"
   ]
  },
  {
   "cell_type": "code",
   "execution_count": 10,
   "metadata": {},
   "outputs": [],
   "source": [
    "#vetores de novas colunas correspondentes aos temas\n",
    "\n",
    "AEDP = []   # Algoritmos, Estrutura de Dados e Programação                     - 0,2,9,13,22,24,26\n",
    "LMMDEG = [] # Lógica Matemática, Matemática Discreta, Estatística e Grafos;    - 5,15\n",
    "LFACC = []  # Linguagens Formais e Autômatos, Compiladores e Computabilidade;  - 14,21\n",
    "RCSDT = []  # Redes de Computadores, Sistemas Distribuídos e Telecomunicações; - 6,11 \n",
    "ES = []     # Engenharia de Software;                                          - 1,19\n",
    "BD = []     # Banco de Dados;                                                  - 10,25\n",
    "IA = []     # Inteligência Artificial;                                         - 8,23\n",
    "SO = []     # Sistemas Operacionais;                                           - 20\n",
    "ACCD = []   # Arquitetura de Computadores e Circuitos Digitais;                - 3,4\n",
    "CGPI = []   # Computação Gráfica e Processamento de Imagem;                    - 18\n",
    "ECS = []    # Ética, Computador e Sociedade;                                   - 7\n",
    "\n",
    "tempAEDP, tempLMMDEG, tempLFACC, tempRCSDT, tempES, tempBD, tempIA, tempSO, tempACCD, tempCGPI, tempECS =\\\n",
    "0,0,0,0,0,0,0,0,0,0,0\n",
    "\n",
    "# anuladas 12, 16, 17\n",
    "\n",
    "def SwitchTheme(argument):\n",
    "    themes = {\n",
    "        0: \"AEDP\",\n",
    "        1: \"ES\",\n",
    "        2: \"AEDP\",\n",
    "        3: \"ACCD\",\n",
    "        4: \"ACCD\",\n",
    "        5: \"LMMDEG\",\n",
    "        6: \"RCSDT\",\n",
    "        7: \"ECS\",\n",
    "        8: \"IA\",\n",
    "        9: \"AEDP\",\n",
    "        10: \"BD\",\n",
    "        11: \"RCSD\",\n",
    "        12: \"LMMDEG\",\n",
    "        13: \"AEDP\",\n",
    "        14: \"LFACC\",\n",
    "        15: \"LMMDEG\",\n",
    "        16: \"AEDP\",\n",
    "        17: \"CGPI\",\n",
    "        18: \"CGPI\",\n",
    "        19: \"ES\",\n",
    "        20: \"SO\",\n",
    "        21: \"LFACC\",\n",
    "        22: \"AEDP\",\n",
    "        23: \"IA\",\n",
    "        24: \"AEDP\",\n",
    "        25: \"BD\",\n",
    "        26: \"AEDP\"\n",
    "    }\n",
    "    return themes.get(argument, \"nothing\")\n",
    "\n",
    "\n",
    "for vector in data.itertuples():\n",
    "    temp_vector = vector.DS_VT_ACE_OCE\n",
    "\n",
    "    for index, value in enumerate(temp_vector):\n",
    "        theme = SwitchTheme(int(index))\n",
    "        \n",
    "        if (theme == \"AEDP\" and value==\"1\"):\n",
    "            tempAEDP +=1\n",
    "        if (theme == \"LMMDEG\" and value==\"1\"):\n",
    "            tempLMMDEG +=1\n",
    "        if (theme == \"LFACC\" and value==\"1\"):\n",
    "            tempLFACC +=1\n",
    "        if (theme == \"RCSDT\" and value==\"1\"):\n",
    "            tempRCSDT +=1\n",
    "        if (theme == \"ES\" and value==\"1\"):\n",
    "            tempES +=1\n",
    "        if (theme == \"BD\" and value==\"1\"):\n",
    "            tempBD +=1\n",
    "        if (theme == \"IA\" and value==\"1\"):\n",
    "            tempIA +=1\n",
    "        if (theme == \"SO\" and value==\"1\"):\n",
    "            tempSO +=1\n",
    "        if (theme == \"ACCD\" and value==\"1\"):\n",
    "            tempACCD +=1\n",
    "        if (theme == \"CGPI\" and value==\"1\"):\n",
    "            tempCGPI +=1\n",
    "        if (theme == \"ECS\" and value==\"1\"):\n",
    "            tempECS +=1\n",
    "    AEDP.append(tempAEDP)\n",
    "    LMMDEG.append(tempLMMDEG)\n",
    "    LFACC.append(tempLFACC)\n",
    "    RCSDT.append(tempRCSDT)\n",
    "    ES.append(tempES)\n",
    "    BD.append(tempBD)\n",
    "    IA.append(tempIA)\n",
    "    SO.append(tempSO)\n",
    "    ACCD.append(tempACCD)\n",
    "    CGPI.append(tempCGPI)\n",
    "    ECS.append(tempECS)\n",
    "    \n",
    "    #reset variaveis\n",
    "    tempAEDP, tempLMMDEG, tempLFACC, tempRCSDT, tempES, tempBD, tempIA, tempSO, tempACCD, tempCGPI, tempECS =\\\n",
    "0,0,0,0,0,0,0,0,0,0,0\n",
    "\n",
    "    \n",
    "dataQuest = pd.DataFrame({\"ACERTOS_AEDP\": AEDP,\n",
    "                          \"ACERTOS_LMMDEG\": LMMDEG,\n",
    "                          \"ACERTOS_LFACC\": LMMDEG,\n",
    "                          \"ACERTOS_RCSDT\": RCSDT,\n",
    "                          \"ACERTOS_ES\": ES,\n",
    "                          \"ACERTOS_BD\": BD,\n",
    "                          \"ACERTOS_IA\": IA,\n",
    "                          \"ACERTOS_SO\": SO,\n",
    "                          \"ACERTOS_ACCD\": ACCD,\n",
    "                          \"ACERTOS_CGPI\": CGPI,\n",
    "                          \"ACERTOS_ECS\": ECS})\n",
    "    \n",
    "data = pd.concat([data, dataQuest], axis=1)"
   ]
  },
  {
   "cell_type": "code",
   "execution_count": 11,
   "metadata": {},
   "outputs": [
    {
     "data": {
      "text/plain": [
       "0       4\n",
       "1       4\n",
       "2       3\n",
       "3       3\n",
       "4       3\n",
       "       ..\n",
       "8484    2\n",
       "8485    1\n",
       "8486    2\n",
       "8487    1\n",
       "8488    1\n",
       "Name: ACERTOS_AEDP, Length: 8489, dtype: int64"
      ]
     },
     "execution_count": 11,
     "metadata": {},
     "output_type": "execute_result"
    }
   ],
   "source": [
    "data[\"ACERTOS_AEDP\"]"
   ]
  },
  {
   "cell_type": "code",
   "execution_count": 12,
   "metadata": {},
   "outputs": [],
   "source": [
    "data[\"Total_acertos\"] = data.iloc[:, -11:].sum(axis=1)"
   ]
  },
  {
   "cell_type": "code",
   "execution_count": 13,
   "metadata": {},
   "outputs": [
    {
     "name": "stdout",
     "output_type": "stream",
     "text": [
      "Taxa de acertos 2017:\n",
      "\n",
      "AEDP 39.0\n",
      "LMMDEG 36.0\n",
      "LFACC 36.0\n",
      "RCSDT 13.0\n",
      "ES 41.0\n",
      "BD 40.0\n",
      "IA 59.0\n",
      "SO 26.0\n",
      "ACCD 52.0\n",
      "CGPI 35.0\n",
      "ECS 66.0\n"
     ]
    }
   ],
   "source": [
    "print (\"Taxa de acertos 2017:\\n\")\n",
    "print (\"AEDP\",   round(data[\"ACERTOS_AEDP\"].sum(axis=0)/(8489*7)*100))\n",
    "print (\"LMMDEG\", round(data[\"ACERTOS_LMMDEG\"].sum(axis=0)/(8489*2)*100))\n",
    "print (\"LFACC\",  round(data[\"ACERTOS_LFACC\"].sum(axis=0)/(8489*2)*100))\n",
    "print (\"RCSDT\",  round(data[\"ACERTOS_RCSDT\"].sum(axis=0)/(8489*2)*100))\n",
    "print (\"ES\",     round(data[\"ACERTOS_ES\"].sum(axis=0)/(8489*2)*100))\n",
    "print (\"BD\",     round(data[\"ACERTOS_BD\"].sum(axis=0)/(8489*2)*100))\n",
    "print (\"IA\",     round(data[\"ACERTOS_IA\"].sum(axis=0)/(8489*2)*100))\n",
    "print (\"SO\",     round(data[\"ACERTOS_SO\"].sum(axis=0)/(8489)*100))\n",
    "print (\"ACCD\",   round(data[\"ACERTOS_ACCD\"].sum(axis=0)/(8489*2)*100))\n",
    "print (\"CGPI\",   round(data[\"ACERTOS_CGPI\"].sum(axis=0)/(8489)*100))\n",
    "print (\"ECS\",    round(data[\"ACERTOS_ECS\"].sum(axis=0)/(8489)*100))"
   ]
  },
  {
   "cell_type": "code",
   "execution_count": 14,
   "metadata": {},
   "outputs": [],
   "source": [
    "# arrays prova objetiva\n",
    "\n",
    "indexAEDP = [0,2,9,13,22,24,26] # Algoritmos, Estrutura de Dados e Programação                     - 0,2,9,13,22,24,26\n",
    "indexLMMDEG = [5,15]            # Lógica Matemática, Matemática Discreta, Estatística e Grafos;    - 5,15\n",
    "indexLFACC = [14,21]            # Linguagens Formais e Autômatos, Compiladores e Computabilidade;  - 14,21\n",
    "indexRCSDT = [6,11]             # Redes de Computadores, Sistemas Distribuídos e Telecomunicações; - 6,11 \n",
    "indexES = [1,19]                # Engenharia de Software;                                          - 1,19\n",
    "indexBD = [10,25]               # Banco de Dados;                                                  - 10,25\n",
    "indexIA = [8,23]                # Inteligência Artificial;                                         - 8,23\n",
    "indexSO = [20]                  # Sistemas Operacionais;                                           - 20\n",
    "indexACCD = [3,4]               # Arquitetura de Computadores e Circuitos Digitais;                - 3,4\n",
    "indexCGPI = [18]                # Computação Gráfica e Processamento de Imagem;                    - 18\n",
    "indexECS = [18]                 # Ética, Computador e Sociedade;                                   - 7\n",
    "# arrays prova objetiva\n",
    "\n",
    "objAEDP = []\n",
    "objLMMDEG = []\n",
    "objLFACC = []\n",
    "objRCSDT = []\n",
    "objES = []\n",
    "objBD = []\n",
    "objIA = []\n",
    "objSO = []\n",
    "objACCD = []\n",
    "objCGPI = []\n",
    "objECS = []\n",
    "\n",
    "# arrays prova discurssiva\n",
    "\n",
    "discAEDP = []\n",
    "discLMMDEG = []\n",
    "discES = []\n",
    "\n",
    "#AEDP   - D3/d1\n",
    "#ES     - D4/d2\n",
    "#LMMDEG - D5/d3\n",
    "\n",
    "# anuladas 12, 16, 17\n",
    "\n",
    "for vector in data.itertuples():\n",
    "    temp_vector = vector.DS_VT_ACE_OCE\n",
    "    temp_ceD1 = vector.NT_CE_D1\n",
    "    temp_ceD2 = vector.NT_CE_D2\n",
    "    temp_ceD3 = vector.NT_CE_D3\n",
    "    \n",
    "    vector_convertido = np.array(list(map(int, temp_vector))) # convert o vector string para um array numpy int\n",
    "    \n",
    "    # calcula a média dos valores dos indices\n",
    "    objAEDP.append(np.mean(vector_convertido[indexAEDP]))\n",
    "    objLMMDEG.append(np.mean(vector_convertido[indexLMMDEG]))\n",
    "    objLFACC.append(np.mean(vector_convertido[indexLFACC]))    \n",
    "    objRCSDT.append(np.mean(vector_convertido[indexRCSDT]))\n",
    "    objES.append(np.mean(vector_convertido[indexES]))    \n",
    "    objBD.append(np.mean(vector_convertido[indexBD]))\n",
    "    objIA.append(np.mean(vector_convertido[indexIA]))    \n",
    "    objSO.append(np.mean(vector_convertido[indexSO]))\n",
    "    objACCD.append(np.mean(vector_convertido[indexACCD]))    \n",
    "    objCGPI.append(np.mean(vector_convertido[indexCGPI]))\n",
    "    objECS.append(np.mean(vector_convertido[indexECS]))   \n",
    "     \n",
    "    discAEDP.append(np.mean(temp_ceD1)/100)\n",
    "    discLMMDEG.append(np.mean(temp_ceD2)/100)\n",
    "    discES.append(np.mean(temp_ceD3)/100)\n",
    "    \n",
    "    \n",
    "dataQuest = pd.DataFrame({\"OBJ_AEDP\": objAEDP,\n",
    "                          \"OBJ_LMMDEG\": objLMMDEG,\n",
    "                          \"OBJ_LFACC\": objLFACC,\n",
    "                          \"OBJ_RCSDT\": objRCSDT,\n",
    "                          \"OBJ_ES\": objES,\n",
    "                          \"OBJ_BD\": objBD,\n",
    "                          \"OBJ_IA\": objIA,\n",
    "                          \"OBJ_SO\": objSO,\n",
    "                          \"OBJ_ACCD\": objACCD,\n",
    "                          \"OBJ_CGPI\": objCGPI,\n",
    "                          \"OBJ_ECS\": objECS,\n",
    "                          \"DISC_AEDP\": discAEDP,\n",
    "                          \"DISC_LMMDEG\": discLMMDEG,\n",
    "                          \"DISC_ES\": discES})\n",
    "    \n",
    "data = pd.concat([data, dataQuest], axis=1)\n",
    "\n",
    "data[\"DISC_LFACC\"] = 0\n",
    "data[\"DISC_RCSDT\"] = 0\n",
    "data[\"DISC_BD\"] = 0\n",
    "data[\"DISC_IA\"] = 0\n",
    "data[\"DISC_SO\"] = 0\n",
    "data[\"DISC_ACCD\"] = 0\n",
    "data[\"DISC_CGPI\"] = 0\n",
    "data[\"DISC_ECS\"] = 0\n",
    "\n",
    "OBJThemes = [\"OBJ_AEDP\", \"OBJ_LMMDEG\", \"OBJ_LFACC\", \"OBJ_RCSDT\", \"OBJ_ES\", \"OBJ_BD\", \"OBJ_IA\",\\\n",
    "             \"OBJ_SO\", \"OBJ_ACCD\", \"OBJ_CGPI\", \"OBJ_ECS\"]\n",
    "DISCThemes = [\"DISC_AEDP\", \"DISC_LMMDEG\", \"DISC_LFACC\", \"DISC_RCSDT\", \"DISC_ES\", \"DISC_BD\", \"DISC_IA\",\\\n",
    "               \"DISC_SO\", \"DISC_ACCD\", \"DISC_CGPI\", \"DISC_ECS\"]\n",
    "NTCEThemes = [\"NT_CE_AEDP\", \"NT_CE_LMMDEG\", \"NT_CE_LFACC\", \"NT_CE_RCSDT\", \"NT_CE_ES\", \"NT_CE_BD\", \"NT_CE_IA\",\\\n",
    "               \"NT_CE_SO\", \"NT_CE_ACCD\", \"NT_CE_CGPI\", \"NT_CE_ECS\"]\n",
    "\n",
    "for obj,disc,ntce in zip(OBJThemes, DISCThemes, NTCEThemes):\n",
    "    data[ntce] = (data[obj]*85)+(data[disc]*15)"
   ]
  },
  {
   "cell_type": "code",
   "execution_count": 15,
   "metadata": {},
   "outputs": [
    {
     "name": "stdout",
     "output_type": "stream",
     "text": [
      "Média NT_CE:\n",
      "AEDP: 36.76\n",
      "LMMDEG: 34.22\n",
      "LFACC: 24.8\n",
      "RCSDT: 36.88\n",
      "ES: 40.04\n",
      "BD: 33.72\n",
      "IA: 49.88\n",
      "SO: 21.98\n",
      "ACCD: 44.15\n",
      "CGPI: 29.62\n",
      "ECS: 29.62\n"
     ]
    }
   ],
   "source": [
    "print (\"Média NT_CE:\")\n",
    "print (\"AEDP:\", round(data[\"NT_CE_AEDP\"].mean(),2))\n",
    "print (\"LMMDEG:\", round(data[\"NT_CE_LMMDEG\"].mean(),2))\n",
    "print (\"LFACC:\", round(data[\"NT_CE_LFACC\"].mean(),2))\n",
    "print (\"RCSDT:\", round(data[\"NT_CE_RCSDT\"].mean(),2))\n",
    "print (\"ES:\", round(data[\"NT_CE_ES\"].mean(),2))\n",
    "print (\"BD:\", round(data[\"NT_CE_BD\"].mean(),2))\n",
    "print (\"IA:\", round(data[\"NT_CE_IA\"].mean(),2))\n",
    "print (\"SO:\", round(data[\"NT_CE_SO\"].mean(),2))\n",
    "print (\"ACCD:\", round(data[\"NT_CE_ACCD\"].mean(),2))\n",
    "print (\"CGPI:\", round(data[\"NT_CE_CGPI\"].mean(),2))\n",
    "print (\"ECS:\", round(data[\"NT_CE_ECS\"].mean(),2))"
   ]
  },
  {
   "cell_type": "code",
   "execution_count": 19,
   "metadata": {},
   "outputs": [
    {
     "data": {
      "text/plain": [
       "19.37"
      ]
     },
     "execution_count": 19,
     "metadata": {},
     "output_type": "execute_result"
    }
   ],
   "source": [
    "x= [15.17, 18.41, 18.50, 23.86, 18.30, 40.63 ,0, 18.08, 23.64, 17.16]\n",
    "round(np.mean(x),2)"
   ]
  },
  {
   "cell_type": "code",
   "execution_count": null,
   "metadata": {},
   "outputs": [],
   "source": []
  },
  {
   "cell_type": "code",
   "execution_count": null,
   "metadata": {},
   "outputs": [],
   "source": []
  }
 ],
 "metadata": {
  "kernelspec": {
   "display_name": "Python 3",
   "language": "python",
   "name": "python3"
  },
  "language_info": {
   "codemirror_mode": {
    "name": "ipython",
    "version": 3
   },
   "file_extension": ".py",
   "mimetype": "text/x-python",
   "name": "python",
   "nbconvert_exporter": "python",
   "pygments_lexer": "ipython3",
   "version": "3.7.4"
  }
 },
 "nbformat": 4,
 "nbformat_minor": 4
}
