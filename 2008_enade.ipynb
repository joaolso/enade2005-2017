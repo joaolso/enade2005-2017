{
 "cells": [
  {
   "cell_type": "code",
   "execution_count": 1,
   "metadata": {},
   "outputs": [],
   "source": [
    "import numpy as np\n",
    "import pandas as pd\n",
    "import matplotlib.pyplot as plt"
   ]
  },
  {
   "cell_type": "code",
   "execution_count": 2,
   "metadata": {},
   "outputs": [
    {
     "name": "stdout",
     "output_type": "stream",
     "text": [
      "<class 'pandas.core.frame.DataFrame'>\n",
      "RangeIndex: 461776 entries, 0 to 461775\n",
      "Columns: 198 entries, nu_ano to QE_I115\n",
      "dtypes: float64(27), int64(41), object(130)\n",
      "memory usage: 697.6+ MB\n"
     ]
    }
   ],
   "source": [
    "data = pd.read_csv('microdados_enade_2008.csv', sep=\";\")\n",
    "data.info()"
   ]
  },
  {
   "cell_type": "code",
   "execution_count": 3,
   "metadata": {},
   "outputs": [
    {
     "data": {
      "text/html": [
       "<div>\n",
       "<style scoped>\n",
       "    .dataframe tbody tr th:only-of-type {\n",
       "        vertical-align: middle;\n",
       "    }\n",
       "\n",
       "    .dataframe tbody tr th {\n",
       "        vertical-align: top;\n",
       "    }\n",
       "\n",
       "    .dataframe thead th {\n",
       "        text-align: right;\n",
       "    }\n",
       "</style>\n",
       "<table border=\"1\" class=\"dataframe\">\n",
       "  <thead>\n",
       "    <tr style=\"text-align: right;\">\n",
       "      <th></th>\n",
       "      <th>nu_ano</th>\n",
       "      <th>co_ies</th>\n",
       "      <th>cd_catad</th>\n",
       "      <th>cd_orgac</th>\n",
       "      <th>co_grupo</th>\n",
       "      <th>co_subarea</th>\n",
       "      <th>co_regiao_habil</th>\n",
       "      <th>co_uf_habil</th>\n",
       "      <th>co_munic_habil</th>\n",
       "      <th>co_curso</th>\n",
       "      <th>...</th>\n",
       "      <th>QE_I106</th>\n",
       "      <th>QE_I107</th>\n",
       "      <th>QE_I108</th>\n",
       "      <th>QE_I109</th>\n",
       "      <th>QE_I110</th>\n",
       "      <th>QE_I111</th>\n",
       "      <th>QE_I112</th>\n",
       "      <th>QE_I113</th>\n",
       "      <th>QE_I114</th>\n",
       "      <th>QE_I115</th>\n",
       "    </tr>\n",
       "  </thead>\n",
       "  <tbody>\n",
       "    <tr>\n",
       "      <th>0</th>\n",
       "      <td>2008</td>\n",
       "      <td>1</td>\n",
       "      <td>1</td>\n",
       "      <td>1</td>\n",
       "      <td>7</td>\n",
       "      <td>NaN</td>\n",
       "      <td>5</td>\n",
       "      <td>51</td>\n",
       "      <td>5103403</td>\n",
       "      <td>26</td>\n",
       "      <td>...</td>\n",
       "      <td>.</td>\n",
       "      <td>.</td>\n",
       "      <td>.</td>\n",
       "      <td>.</td>\n",
       "      <td>.</td>\n",
       "      <td>.</td>\n",
       "      <td>.</td>\n",
       "      <td>.</td>\n",
       "      <td>.</td>\n",
       "      <td>.</td>\n",
       "    </tr>\n",
       "    <tr>\n",
       "      <th>1</th>\n",
       "      <td>2008</td>\n",
       "      <td>1</td>\n",
       "      <td>1</td>\n",
       "      <td>1</td>\n",
       "      <td>7</td>\n",
       "      <td>NaN</td>\n",
       "      <td>5</td>\n",
       "      <td>51</td>\n",
       "      <td>5103403</td>\n",
       "      <td>26</td>\n",
       "      <td>...</td>\n",
       "      <td>.</td>\n",
       "      <td>.</td>\n",
       "      <td>.</td>\n",
       "      <td>.</td>\n",
       "      <td>.</td>\n",
       "      <td>.</td>\n",
       "      <td>.</td>\n",
       "      <td>.</td>\n",
       "      <td>.</td>\n",
       "      <td>.</td>\n",
       "    </tr>\n",
       "    <tr>\n",
       "      <th>2</th>\n",
       "      <td>2008</td>\n",
       "      <td>1</td>\n",
       "      <td>1</td>\n",
       "      <td>1</td>\n",
       "      <td>7</td>\n",
       "      <td>NaN</td>\n",
       "      <td>5</td>\n",
       "      <td>51</td>\n",
       "      <td>5103403</td>\n",
       "      <td>26</td>\n",
       "      <td>...</td>\n",
       "      <td>C</td>\n",
       "      <td>C</td>\n",
       "      <td>C</td>\n",
       "      <td>C</td>\n",
       "      <td>C</td>\n",
       "      <td>A</td>\n",
       "      <td>A</td>\n",
       "      <td>E</td>\n",
       "      <td>A</td>\n",
       "      <td>B</td>\n",
       "    </tr>\n",
       "    <tr>\n",
       "      <th>3</th>\n",
       "      <td>2008</td>\n",
       "      <td>1</td>\n",
       "      <td>1</td>\n",
       "      <td>1</td>\n",
       "      <td>7</td>\n",
       "      <td>NaN</td>\n",
       "      <td>5</td>\n",
       "      <td>51</td>\n",
       "      <td>5103403</td>\n",
       "      <td>26</td>\n",
       "      <td>...</td>\n",
       "      <td>.</td>\n",
       "      <td>.</td>\n",
       "      <td>.</td>\n",
       "      <td>.</td>\n",
       "      <td>.</td>\n",
       "      <td>.</td>\n",
       "      <td>.</td>\n",
       "      <td>.</td>\n",
       "      <td>.</td>\n",
       "      <td>.</td>\n",
       "    </tr>\n",
       "    <tr>\n",
       "      <th>4</th>\n",
       "      <td>2008</td>\n",
       "      <td>1</td>\n",
       "      <td>1</td>\n",
       "      <td>1</td>\n",
       "      <td>7</td>\n",
       "      <td>NaN</td>\n",
       "      <td>5</td>\n",
       "      <td>51</td>\n",
       "      <td>5103403</td>\n",
       "      <td>26</td>\n",
       "      <td>...</td>\n",
       "      <td>.</td>\n",
       "      <td>.</td>\n",
       "      <td>.</td>\n",
       "      <td>.</td>\n",
       "      <td>.</td>\n",
       "      <td>.</td>\n",
       "      <td>.</td>\n",
       "      <td>.</td>\n",
       "      <td>.</td>\n",
       "      <td>.</td>\n",
       "    </tr>\n",
       "  </tbody>\n",
       "</table>\n",
       "<p>5 rows × 198 columns</p>\n",
       "</div>"
      ],
      "text/plain": [
       "   nu_ano  co_ies  cd_catad  cd_orgac  co_grupo  co_subarea  co_regiao_habil  \\\n",
       "0    2008       1         1         1         7         NaN                5   \n",
       "1    2008       1         1         1         7         NaN                5   \n",
       "2    2008       1         1         1         7         NaN                5   \n",
       "3    2008       1         1         1         7         NaN                5   \n",
       "4    2008       1         1         1         7         NaN                5   \n",
       "\n",
       "   co_uf_habil  co_munic_habil  co_curso  ...  QE_I106  QE_I107 QE_I108  \\\n",
       "0           51         5103403        26  ...        .        .       .   \n",
       "1           51         5103403        26  ...        .        .       .   \n",
       "2           51         5103403        26  ...        C        C       C   \n",
       "3           51         5103403        26  ...        .        .       .   \n",
       "4           51         5103403        26  ...        .        .       .   \n",
       "\n",
       "   QE_I109  QE_I110  QE_I111  QE_I112  QE_I113  QE_I114  QE_I115  \n",
       "0        .        .        .        .        .        .        .  \n",
       "1        .        .        .        .        .        .        .  \n",
       "2        C        C        A        A        E        A        B  \n",
       "3        .        .        .        .        .        .        .  \n",
       "4        .        .        .        .        .        .        .  \n",
       "\n",
       "[5 rows x 198 columns]"
      ]
     },
     "execution_count": 3,
     "metadata": {},
     "output_type": "execute_result"
    }
   ],
   "source": [
    "data.head()"
   ]
  },
  {
   "cell_type": "code",
   "execution_count": 4,
   "metadata": {},
   "outputs": [
    {
     "name": "stdout",
     "output_type": "stream",
     "text": [
      "Original_2008:  461776\n",
      "Filtrados:  14726\n"
     ]
    }
   ],
   "source": [
    "print(\"Original_2008: \",len(data))\n",
    "\n",
    "data = data[(data[\"co_grupo\"] == 40) & (data[\"tp_pres\"] == 555) & (data[\"co_subarea\"] == 4001)].copy() # Universidade\n",
    "\n",
    "print(\"Filtrados: \",len(data))"
   ]
  },
  {
   "cell_type": "code",
   "execution_count": 5,
   "metadata": {},
   "outputs": [],
   "source": [
    "data[\"cd_catad\"] = data[\"cd_catad\"].replace({1: 'Pub',\\\n",
    "                                                 2: 'Pub',\\\n",
    "                                                 3: 'Pub',\\\n",
    "                                                 5: 'Pri'}).copy()\n",
    "\n",
    "data[\"co_regiao_habil\"] = data[\"co_regiao_habil\"].replace({1: 'Norte',\\\n",
    "                                                           2: 'Nordeste',\\\n",
    "                                                           3: 'Sudeste',\\\n",
    "                                                           4: 'Sul',\\\n",
    "                                                           5: 'Centro-Oeste'}).copy()"
   ]
  },
  {
   "cell_type": "code",
   "execution_count": 6,
   "metadata": {},
   "outputs": [
    {
     "name": "stdout",
     "output_type": "stream",
     "text": [
      "2008_Tamanho:  14726\n"
     ]
    },
    {
     "data": {
      "text/plain": [
       "co_regiao_habil  cd_catad\n",
       "Centro-Oeste     Pri          804\n",
       "                 Pub          642\n",
       "Nordeste         Pri          942\n",
       "                 Pub         1119\n",
       "Norte            Pri          337\n",
       "                 Pub          228\n",
       "Sudeste          Pri         6108\n",
       "                 Pub         1779\n",
       "Sul              Pri         1602\n",
       "                 Pub         1165\n",
       "dtype: int64"
      ]
     },
     "execution_count": 6,
     "metadata": {},
     "output_type": "execute_result"
    }
   ],
   "source": [
    "print (\"2008_Tamanho: \", data.groupby(\"co_regiao_habil\").size().sum())\n",
    "data.groupby([\"co_regiao_habil\",\"cd_catad\"]).size()"
   ]
  },
  {
   "cell_type": "code",
   "execution_count": 7,
   "metadata": {},
   "outputs": [
    {
     "name": "stdout",
     "output_type": "stream",
     "text": [
      "2008_Tamanho:  14726\n",
      "#Grupo::: Ing: 8292 - Conc: 6434\n",
      "#Sexo::: M: 12634 - F:2092\n"
     ]
    }
   ],
   "source": [
    "print (\"2008_Tamanho: \", data.groupby(\"co_regiao_habil\").size().sum())\n",
    "\n",
    "print (\"#Grupo::: Ing: {} - Conc: {}\".format(data.groupby(\"in_grad\").size().to_list()[1],\\\n",
    "                                   data.groupby(\"in_grad\").size().to_list()[0]))\n",
    "\n",
    "print (\"#Sexo::: M: {} - F:{}\".format(data.groupby(\"tp_sexo\").size().to_list()[0],\\\n",
    "                                  data.groupby(\"tp_sexo\").size().to_list()[1]))"
   ]
  },
  {
   "cell_type": "code",
   "execution_count": null,
   "metadata": {},
   "outputs": [],
   "source": []
  },
  {
   "cell_type": "code",
   "execution_count": null,
   "metadata": {},
   "outputs": [],
   "source": []
  }
 ],
 "metadata": {
  "kernelspec": {
   "display_name": "Python 3",
   "language": "python",
   "name": "python3"
  },
  "language_info": {
   "codemirror_mode": {
    "name": "ipython",
    "version": 3
   },
   "file_extension": ".py",
   "mimetype": "text/x-python",
   "name": "python",
   "nbconvert_exporter": "python",
   "pygments_lexer": "ipython3",
   "version": "3.7.4"
  }
 },
 "nbformat": 4,
 "nbformat_minor": 4
}
