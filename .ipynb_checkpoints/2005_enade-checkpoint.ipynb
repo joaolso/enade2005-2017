{
 "cells": [
  {
   "cell_type": "code",
   "execution_count": 1,
   "metadata": {},
   "outputs": [],
   "source": [
    "import numpy as np\n",
    "import pandas as pd\n",
    "import matplotlib.pyplot as plt\n",
    "import math\n",
    "from tqdm import tqdm\n",
    "\n",
    "import warnings\n",
    "warnings.filterwarnings(\"ignore\")"
   ]
  },
  {
   "cell_type": "code",
   "execution_count": 2,
   "metadata": {},
   "outputs": [
    {
     "name": "stdout",
     "output_type": "stream",
     "text": [
      "<class 'pandas.core.frame.DataFrame'>\n",
      "RangeIndex: 323338 entries, 0 to 323337\n",
      "Columns: 210 entries, nu_ano to QE_I110\n",
      "dtypes: float64(54), int64(29), object(127)\n",
      "memory usage: 518.0+ MB\n"
     ]
    }
   ],
   "source": [
    "data = pd.read_csv('microdados_enade_2005.csv', encoding=\"cp1252\", sep=\";\")\n",
    "data.info()"
   ]
  },
  {
   "cell_type": "code",
   "execution_count": 3,
   "metadata": {},
   "outputs": [
    {
     "data": {
      "text/html": [
       "<div>\n",
       "<style scoped>\n",
       "    .dataframe tbody tr th:only-of-type {\n",
       "        vertical-align: middle;\n",
       "    }\n",
       "\n",
       "    .dataframe tbody tr th {\n",
       "        vertical-align: top;\n",
       "    }\n",
       "\n",
       "    .dataframe thead th {\n",
       "        text-align: right;\n",
       "    }\n",
       "</style>\n",
       "<table border=\"1\" class=\"dataframe\">\n",
       "  <thead>\n",
       "    <tr style=\"text-align: right;\">\n",
       "      <th></th>\n",
       "      <th>nu_ano</th>\n",
       "      <th>co_ies</th>\n",
       "      <th>cd_catad</th>\n",
       "      <th>cd_orgac</th>\n",
       "      <th>co_grupo</th>\n",
       "      <th>co_regiao_habil</th>\n",
       "      <th>co_uf_habil</th>\n",
       "      <th>co_munic_habil</th>\n",
       "      <th>co_curso</th>\n",
       "      <th>nu_idade</th>\n",
       "      <th>...</th>\n",
       "      <th>QE_I101</th>\n",
       "      <th>QE_I102</th>\n",
       "      <th>QE_I103</th>\n",
       "      <th>QE_I104</th>\n",
       "      <th>QE_I105</th>\n",
       "      <th>QE_I106</th>\n",
       "      <th>QE_I107</th>\n",
       "      <th>QE_I108</th>\n",
       "      <th>QE_I109</th>\n",
       "      <th>QE_I110</th>\n",
       "    </tr>\n",
       "  </thead>\n",
       "  <tbody>\n",
       "    <tr>\n",
       "      <th>0</th>\n",
       "      <td>2005</td>\n",
       "      <td>1</td>\n",
       "      <td>1</td>\n",
       "      <td>1</td>\n",
       "      <td>7</td>\n",
       "      <td>5</td>\n",
       "      <td>51</td>\n",
       "      <td>665</td>\n",
       "      <td>18354</td>\n",
       "      <td>23</td>\n",
       "      <td>...</td>\n",
       "      <td>NaN</td>\n",
       "      <td>NaN</td>\n",
       "      <td>NaN</td>\n",
       "      <td>NaN</td>\n",
       "      <td>NaN</td>\n",
       "      <td>NaN</td>\n",
       "      <td>NaN</td>\n",
       "      <td>NaN</td>\n",
       "      <td>NaN</td>\n",
       "      <td>NaN</td>\n",
       "    </tr>\n",
       "    <tr>\n",
       "      <th>1</th>\n",
       "      <td>2005</td>\n",
       "      <td>1</td>\n",
       "      <td>1</td>\n",
       "      <td>1</td>\n",
       "      <td>7</td>\n",
       "      <td>5</td>\n",
       "      <td>51</td>\n",
       "      <td>665</td>\n",
       "      <td>18354</td>\n",
       "      <td>22</td>\n",
       "      <td>...</td>\n",
       "      <td>NaN</td>\n",
       "      <td>NaN</td>\n",
       "      <td>NaN</td>\n",
       "      <td>NaN</td>\n",
       "      <td>NaN</td>\n",
       "      <td>NaN</td>\n",
       "      <td>NaN</td>\n",
       "      <td>NaN</td>\n",
       "      <td>NaN</td>\n",
       "      <td>NaN</td>\n",
       "    </tr>\n",
       "    <tr>\n",
       "      <th>2</th>\n",
       "      <td>2005</td>\n",
       "      <td>1</td>\n",
       "      <td>1</td>\n",
       "      <td>1</td>\n",
       "      <td>7</td>\n",
       "      <td>5</td>\n",
       "      <td>51</td>\n",
       "      <td>665</td>\n",
       "      <td>18354</td>\n",
       "      <td>22</td>\n",
       "      <td>...</td>\n",
       "      <td>NaN</td>\n",
       "      <td>NaN</td>\n",
       "      <td>NaN</td>\n",
       "      <td>NaN</td>\n",
       "      <td>NaN</td>\n",
       "      <td>NaN</td>\n",
       "      <td>NaN</td>\n",
       "      <td>NaN</td>\n",
       "      <td>NaN</td>\n",
       "      <td>NaN</td>\n",
       "    </tr>\n",
       "    <tr>\n",
       "      <th>3</th>\n",
       "      <td>2005</td>\n",
       "      <td>1</td>\n",
       "      <td>1</td>\n",
       "      <td>1</td>\n",
       "      <td>7</td>\n",
       "      <td>5</td>\n",
       "      <td>51</td>\n",
       "      <td>665</td>\n",
       "      <td>18354</td>\n",
       "      <td>28</td>\n",
       "      <td>...</td>\n",
       "      <td>B</td>\n",
       "      <td>C</td>\n",
       "      <td>B</td>\n",
       "      <td>D</td>\n",
       "      <td>F</td>\n",
       "      <td>C</td>\n",
       "      <td>A</td>\n",
       "      <td>A</td>\n",
       "      <td>B</td>\n",
       "      <td>C</td>\n",
       "    </tr>\n",
       "    <tr>\n",
       "      <th>4</th>\n",
       "      <td>2005</td>\n",
       "      <td>1</td>\n",
       "      <td>1</td>\n",
       "      <td>1</td>\n",
       "      <td>7</td>\n",
       "      <td>5</td>\n",
       "      <td>51</td>\n",
       "      <td>665</td>\n",
       "      <td>18354</td>\n",
       "      <td>28</td>\n",
       "      <td>...</td>\n",
       "      <td>C</td>\n",
       "      <td>C</td>\n",
       "      <td>E</td>\n",
       "      <td>D</td>\n",
       "      <td>D</td>\n",
       "      <td>C</td>\n",
       "      <td>B</td>\n",
       "      <td>.</td>\n",
       "      <td>B</td>\n",
       "      <td>B</td>\n",
       "    </tr>\n",
       "  </tbody>\n",
       "</table>\n",
       "<p>5 rows × 210 columns</p>\n",
       "</div>"
      ],
      "text/plain": [
       "   nu_ano  co_ies  cd_catad  cd_orgac  co_grupo  co_regiao_habil  co_uf_habil  \\\n",
       "0    2005       1         1         1         7                5           51   \n",
       "1    2005       1         1         1         7                5           51   \n",
       "2    2005       1         1         1         7                5           51   \n",
       "3    2005       1         1         1         7                5           51   \n",
       "4    2005       1         1         1         7                5           51   \n",
       "\n",
       "   co_munic_habil  co_curso  nu_idade  ...  QE_I101 QE_I102 QE_I103  QE_I104  \\\n",
       "0             665     18354        23  ...      NaN     NaN     NaN      NaN   \n",
       "1             665     18354        22  ...      NaN     NaN     NaN      NaN   \n",
       "2             665     18354        22  ...      NaN     NaN     NaN      NaN   \n",
       "3             665     18354        28  ...        B       C       B        D   \n",
       "4             665     18354        28  ...        C       C       E        D   \n",
       "\n",
       "   QE_I105  QE_I106  QE_I107  QE_I108  QE_I109  QE_I110  \n",
       "0      NaN      NaN      NaN      NaN      NaN      NaN  \n",
       "1      NaN      NaN      NaN      NaN      NaN      NaN  \n",
       "2      NaN      NaN      NaN      NaN      NaN      NaN  \n",
       "3        F        C        A        A        B        C  \n",
       "4        D        C        B        .        B        B  \n",
       "\n",
       "[5 rows x 210 columns]"
      ]
     },
     "execution_count": 3,
     "metadata": {},
     "output_type": "execute_result"
    }
   ],
   "source": [
    "data.head()"
   ]
  },
  {
   "cell_type": "code",
   "execution_count": 4,
   "metadata": {},
   "outputs": [
    {
     "name": "stdout",
     "output_type": "stream",
     "text": [
      "Original_2005:  323338\n",
      "Filtrados:  32056\n"
     ]
    }
   ],
   "source": [
    "#co_grupo - Computacao - 40\n",
    "#tp_press - estudante participante - 555\n",
    "\n",
    "print(\"Original_2005: \",len(data))\n",
    "data = data[(data[\"co_grupo\"] == 40) & (data[\"tp_pres\"] == 555)] # Universidade\\\\\n",
    "data.dropna(subset=['vt_ace_oce'], inplace=True)\n",
    "data.reset_index(drop=True, inplace=True)\n",
    "print(\"Filtrados: \",len(data))"
   ]
  },
  {
   "cell_type": "code",
   "execution_count": 5,
   "metadata": {},
   "outputs": [],
   "source": [
    "\n",
    "lista = ['.111222333']\n",
    "if any(\"9\" in s or \"7\" in s or \"8\" in s for s in lista):\n",
    "    print (True)\n",
    "    \n",
    "# if (\"0\" in lista) or (\"1\" in lista) or (\"9\" in lista) or (\"8\" in lista):\n",
    "#     print (True)"
   ]
  },
  {
   "cell_type": "code",
   "execution_count": 6,
   "metadata": {},
   "outputs": [],
   "source": [
    "# Separa somente os estudantes de bacharelado em ciencia da computacao\n",
    "listIndex = []\n",
    "guardaIndex = []\n",
    "\n",
    "for rows in data.itertuples():\n",
    "    tempVec = []\n",
    "    tempVec.append(rows.vt_ace_oce[43:56])\n",
    "\n",
    "    if any(\"0\" in numb or \"1\" in numb or \"8\" in numb or \"9\" in numb for numb in tempVec):\n",
    "        guardaIndex.append(rows.Index)\n",
    "\n",
    "data = data.iloc[guardaIndex]"
   ]
  },
  {
   "cell_type": "code",
   "execution_count": 7,
   "metadata": {},
   "outputs": [],
   "source": [
    "data[\"cd_catad\"] = data[\"cd_catad\"].replace({1: 'Pub',\\\n",
    "                                                 2: 'Pub',\\\n",
    "                                                 3: 'Pub',\\\n",
    "                                                 4: 'Pri'}).copy()\n",
    "\n",
    "data[\"co_regiao_habil\"] = data[\"co_regiao_habil\"].replace({1: 'Norte',\\\n",
    "                                                           2: 'Nordeste',\\\n",
    "                                                           3: 'Sudeste',\\\n",
    "                                                           4: 'Sul',\\\n",
    "                                                           5: 'Centro-Oeste'}).copy()"
   ]
  },
  {
   "cell_type": "code",
   "execution_count": 8,
   "metadata": {},
   "outputs": [
    {
     "name": "stdout",
     "output_type": "stream",
     "text": [
      "2005_Tamanho:  13954\n",
      "#Grupo::: Ing: 7220 - Conc: 6734\n",
      "#Sexo::: M: 11658 - F:2296\n",
      "Média::: 26.83\n",
      "Devio p::: 14.46\n"
     ]
    }
   ],
   "source": [
    "print (\"2005_Tamanho: \", data.groupby(\"co_regiao_habil\").size().sum())\n",
    "print (\"#Grupo::: Ing: {} - Conc: {}\".format(data.groupby(\"in_grad\").size().to_list()[1],\\\n",
    "                                   data.groupby(\"in_grad\").size().to_list()[0]))\n",
    "print (\"#Sexo::: M: {} - F:{}\".format(data.groupby(\"tp_sexo\").size().to_list()[0],\\\n",
    "                                  data.groupby(\"tp_sexo\").size().to_list()[1]))\n",
    "print (\"Média:::\", round(data[\"nt_obj_ce\"].mean(),2))\n",
    "print (\"Devio p:::\", round(data[\"nt_obj_ce\"].std(),2))"
   ]
  },
  {
   "cell_type": "code",
   "execution_count": 11,
   "metadata": {},
   "outputs": [
    {
     "data": {
      "text/plain": [
       "1    7220\n",
       "0    6734\n",
       "Name: in_grad, dtype: int64"
      ]
     },
     "execution_count": 11,
     "metadata": {},
     "output_type": "execute_result"
    }
   ],
   "source": [
    "data.groupby([\"in_grad\"])"
   ]
  },
  {
   "cell_type": "code",
   "execution_count": null,
   "metadata": {},
   "outputs": [],
   "source": []
  },
  {
   "cell_type": "code",
   "execution_count": null,
   "metadata": {},
   "outputs": [],
   "source": []
  },
  {
   "cell_type": "code",
   "execution_count": null,
   "metadata": {},
   "outputs": [],
   "source": []
  },
  {
   "cell_type": "code",
   "execution_count": null,
   "metadata": {},
   "outputs": [],
   "source": []
  }
 ],
 "metadata": {
  "kernelspec": {
   "display_name": "Python 3",
   "language": "python",
   "name": "python3"
  },
  "language_info": {
   "codemirror_mode": {
    "name": "ipython",
    "version": 3
   },
   "file_extension": ".py",
   "mimetype": "text/x-python",
   "name": "python",
   "nbconvert_exporter": "python",
   "pygments_lexer": "ipython3",
   "version": "3.7.4"
  }
 },
 "nbformat": 4,
 "nbformat_minor": 4
}
